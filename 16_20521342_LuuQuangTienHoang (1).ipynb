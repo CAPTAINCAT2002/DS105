{
  "nbformat": 4,
  "nbformat_minor": 0,
  "metadata": {
    "colab": {
      "provenance": []
    },
    "kernelspec": {
      "name": "python3",
      "display_name": "Python 3"
    },
    "language_info": {
      "name": "python"
    },
    "accelerator": "GPU",
    "gpuClass": "standard"
  },
  "cells": [
    {
      "cell_type": "code",
      "execution_count": 312,
      "metadata": {
        "id": "bPc_36v-WHhn"
      },
      "outputs": [],
      "source": [
        "import pandas as pd\n",
        "import numpy as np\n",
        "import seaborn as sns\n",
        "from sklearn.linear_model import LinearRegression\n",
        "from sklearn.pipeline import Pipeline\n",
        "from sklearn.metrics import mean_squared_error, r2_score\n",
        "from sklearn.preprocessing import PolynomialFeatures, StandardScaler"
      ]
    },
    {
      "cell_type": "markdown",
      "source": [
        "##CÂU 1: Tạo dataframe. Xuất 10 samples bất kỳ. Đếm số lượng sample và feature\n"
      ],
      "metadata": {
        "id": "hA3sxHjIYZUb"
      }
    },
    {
      "cell_type": "code",
      "source": [
        "df=pd.read_csv('http://gitlab.com/uitgit/datasets/-/raw/master/LAB2022_V2.csv')"
      ],
      "metadata": {
        "id": "qXYoGvVrWInE"
      },
      "execution_count": 313,
      "outputs": []
    },
    {
      "cell_type": "code",
      "source": [
        "df"
      ],
      "metadata": {
        "colab": {
          "base_uri": "https://localhost:8080/",
          "height": 488
        },
        "id": "_BfjG38AbGaW",
        "outputId": "04422b23-8312-4e55-d423-3964c073eb99"
      },
      "execution_count": 314,
      "outputs": [
        {
          "output_type": "execute_result",
          "data": {
            "text/plain": [
              "               id             date     price  bedrooms  bathrooms  \\\n",
              "0      5095600310  20140725T000000  379500.0       3.0       2.25   \n",
              "1      1858600012  20140605T000000  310000.0       4.0       2.25   \n",
              "2      1023079147  20140820T000000  652500.0       4.0       2.25   \n",
              "3      8658303080  20141223T000000  312000.0       2.0       1.00   \n",
              "4       826000295  20141215T000000  379950.0       2.0       1.00   \n",
              "...           ...              ...       ...       ...        ...   \n",
              "20118  7140700850  20150326T000000  350000.0       4.0       2.50   \n",
              "20119  7853220330  20141006T000000  730000.0       4.0       3.50   \n",
              "20120  2968800626  20140822T000000  355000.0       4.0       2.00   \n",
              "20121  2026079055  20140818T000000  380000.0       1.0       1.50   \n",
              "20122  1532300155  20140916T000000  425000.0       4.0       1.00   \n",
              "\n",
              "       sqft_living  sqft_lot  floors  waterfront  view  ...  grade  \\\n",
              "0           2070.0   14196.0     2.0           0     0  ...      7   \n",
              "1           2192.0   12128.0     2.0           0     0  ...      8   \n",
              "2           2220.0  130244.0     2.0           0     0  ...      8   \n",
              "3           1160.0    7500.0     1.5           0     0  ...      7   \n",
              "4            870.0    7500.0     1.0           0     0  ...      7   \n",
              "...            ...       ...     ...         ...   ...  ...    ...   \n",
              "20118       2560.0    5428.0     2.0           0     0  ...      8   \n",
              "20119       4420.0    7902.0     2.0           0     0  ...     10   \n",
              "20120       1770.0    8890.0     1.0           0     0  ...      6   \n",
              "20121       1200.0   44866.0     1.5           0     0  ...      7   \n",
              "20122       1080.0    6095.0     1.5           0     0  ...      6   \n",
              "\n",
              "       sqft_above  sqft_basement  yr_built  yr_renovated  zipcode      lat  \\\n",
              "0          2070.0              0      1989             0  98059.0  47.4617   \n",
              "1          2192.0              0      2006             0  98030.0  47.3644   \n",
              "2          2220.0              0      1989             0  98027.0  47.4989   \n",
              "3             NaN              0      1916             0  98014.0  47.6499   \n",
              "4           870.0              0      1947             0  98136.0  47.5465   \n",
              "...           ...            ...       ...           ...      ...      ...   \n",
              "20118      2560.0              0      2012             0  98042.0  47.3835   \n",
              "20119      3350.0           1070      2004             0  98065.0  47.5327   \n",
              "20120         NaN              0      1949             0  98166.0  47.4589   \n",
              "20121      1200.0              0      1983             0  98019.0  47.7205   \n",
              "20122      1080.0              0      1924             0  98103.0  47.6962   \n",
              "\n",
              "          long  sqft_living15  sqft_lot15  \n",
              "0     -122.070           1550       13860  \n",
              "1     -122.200           1914        4649  \n",
              "2     -121.900           2680      130680  \n",
              "3     -121.916           1110        7500  \n",
              "4     -122.384           1240        5709  \n",
              "...        ...            ...         ...  \n",
              "20118 -122.095           2620        5428  \n",
              "20119 -121.860           3440        7851  \n",
              "20120 -122.353           1010        7620  \n",
              "20121 -121.930           1480       67082  \n",
              "20122 -122.346           1200        5060  \n",
              "\n",
              "[20123 rows x 21 columns]"
            ],
            "text/html": [
              "\n",
              "  <div id=\"df-56710404-82ad-4675-b6fe-5efa5d8b9c84\">\n",
              "    <div class=\"colab-df-container\">\n",
              "      <div>\n",
              "<style scoped>\n",
              "    .dataframe tbody tr th:only-of-type {\n",
              "        vertical-align: middle;\n",
              "    }\n",
              "\n",
              "    .dataframe tbody tr th {\n",
              "        vertical-align: top;\n",
              "    }\n",
              "\n",
              "    .dataframe thead th {\n",
              "        text-align: right;\n",
              "    }\n",
              "</style>\n",
              "<table border=\"1\" class=\"dataframe\">\n",
              "  <thead>\n",
              "    <tr style=\"text-align: right;\">\n",
              "      <th></th>\n",
              "      <th>id</th>\n",
              "      <th>date</th>\n",
              "      <th>price</th>\n",
              "      <th>bedrooms</th>\n",
              "      <th>bathrooms</th>\n",
              "      <th>sqft_living</th>\n",
              "      <th>sqft_lot</th>\n",
              "      <th>floors</th>\n",
              "      <th>waterfront</th>\n",
              "      <th>view</th>\n",
              "      <th>...</th>\n",
              "      <th>grade</th>\n",
              "      <th>sqft_above</th>\n",
              "      <th>sqft_basement</th>\n",
              "      <th>yr_built</th>\n",
              "      <th>yr_renovated</th>\n",
              "      <th>zipcode</th>\n",
              "      <th>lat</th>\n",
              "      <th>long</th>\n",
              "      <th>sqft_living15</th>\n",
              "      <th>sqft_lot15</th>\n",
              "    </tr>\n",
              "  </thead>\n",
              "  <tbody>\n",
              "    <tr>\n",
              "      <th>0</th>\n",
              "      <td>5095600310</td>\n",
              "      <td>20140725T000000</td>\n",
              "      <td>379500.0</td>\n",
              "      <td>3.0</td>\n",
              "      <td>2.25</td>\n",
              "      <td>2070.0</td>\n",
              "      <td>14196.0</td>\n",
              "      <td>2.0</td>\n",
              "      <td>0</td>\n",
              "      <td>0</td>\n",
              "      <td>...</td>\n",
              "      <td>7</td>\n",
              "      <td>2070.0</td>\n",
              "      <td>0</td>\n",
              "      <td>1989</td>\n",
              "      <td>0</td>\n",
              "      <td>98059.0</td>\n",
              "      <td>47.4617</td>\n",
              "      <td>-122.070</td>\n",
              "      <td>1550</td>\n",
              "      <td>13860</td>\n",
              "    </tr>\n",
              "    <tr>\n",
              "      <th>1</th>\n",
              "      <td>1858600012</td>\n",
              "      <td>20140605T000000</td>\n",
              "      <td>310000.0</td>\n",
              "      <td>4.0</td>\n",
              "      <td>2.25</td>\n",
              "      <td>2192.0</td>\n",
              "      <td>12128.0</td>\n",
              "      <td>2.0</td>\n",
              "      <td>0</td>\n",
              "      <td>0</td>\n",
              "      <td>...</td>\n",
              "      <td>8</td>\n",
              "      <td>2192.0</td>\n",
              "      <td>0</td>\n",
              "      <td>2006</td>\n",
              "      <td>0</td>\n",
              "      <td>98030.0</td>\n",
              "      <td>47.3644</td>\n",
              "      <td>-122.200</td>\n",
              "      <td>1914</td>\n",
              "      <td>4649</td>\n",
              "    </tr>\n",
              "    <tr>\n",
              "      <th>2</th>\n",
              "      <td>1023079147</td>\n",
              "      <td>20140820T000000</td>\n",
              "      <td>652500.0</td>\n",
              "      <td>4.0</td>\n",
              "      <td>2.25</td>\n",
              "      <td>2220.0</td>\n",
              "      <td>130244.0</td>\n",
              "      <td>2.0</td>\n",
              "      <td>0</td>\n",
              "      <td>0</td>\n",
              "      <td>...</td>\n",
              "      <td>8</td>\n",
              "      <td>2220.0</td>\n",
              "      <td>0</td>\n",
              "      <td>1989</td>\n",
              "      <td>0</td>\n",
              "      <td>98027.0</td>\n",
              "      <td>47.4989</td>\n",
              "      <td>-121.900</td>\n",
              "      <td>2680</td>\n",
              "      <td>130680</td>\n",
              "    </tr>\n",
              "    <tr>\n",
              "      <th>3</th>\n",
              "      <td>8658303080</td>\n",
              "      <td>20141223T000000</td>\n",
              "      <td>312000.0</td>\n",
              "      <td>2.0</td>\n",
              "      <td>1.00</td>\n",
              "      <td>1160.0</td>\n",
              "      <td>7500.0</td>\n",
              "      <td>1.5</td>\n",
              "      <td>0</td>\n",
              "      <td>0</td>\n",
              "      <td>...</td>\n",
              "      <td>7</td>\n",
              "      <td>NaN</td>\n",
              "      <td>0</td>\n",
              "      <td>1916</td>\n",
              "      <td>0</td>\n",
              "      <td>98014.0</td>\n",
              "      <td>47.6499</td>\n",
              "      <td>-121.916</td>\n",
              "      <td>1110</td>\n",
              "      <td>7500</td>\n",
              "    </tr>\n",
              "    <tr>\n",
              "      <th>4</th>\n",
              "      <td>826000295</td>\n",
              "      <td>20141215T000000</td>\n",
              "      <td>379950.0</td>\n",
              "      <td>2.0</td>\n",
              "      <td>1.00</td>\n",
              "      <td>870.0</td>\n",
              "      <td>7500.0</td>\n",
              "      <td>1.0</td>\n",
              "      <td>0</td>\n",
              "      <td>0</td>\n",
              "      <td>...</td>\n",
              "      <td>7</td>\n",
              "      <td>870.0</td>\n",
              "      <td>0</td>\n",
              "      <td>1947</td>\n",
              "      <td>0</td>\n",
              "      <td>98136.0</td>\n",
              "      <td>47.5465</td>\n",
              "      <td>-122.384</td>\n",
              "      <td>1240</td>\n",
              "      <td>5709</td>\n",
              "    </tr>\n",
              "    <tr>\n",
              "      <th>...</th>\n",
              "      <td>...</td>\n",
              "      <td>...</td>\n",
              "      <td>...</td>\n",
              "      <td>...</td>\n",
              "      <td>...</td>\n",
              "      <td>...</td>\n",
              "      <td>...</td>\n",
              "      <td>...</td>\n",
              "      <td>...</td>\n",
              "      <td>...</td>\n",
              "      <td>...</td>\n",
              "      <td>...</td>\n",
              "      <td>...</td>\n",
              "      <td>...</td>\n",
              "      <td>...</td>\n",
              "      <td>...</td>\n",
              "      <td>...</td>\n",
              "      <td>...</td>\n",
              "      <td>...</td>\n",
              "      <td>...</td>\n",
              "      <td>...</td>\n",
              "    </tr>\n",
              "    <tr>\n",
              "      <th>20118</th>\n",
              "      <td>7140700850</td>\n",
              "      <td>20150326T000000</td>\n",
              "      <td>350000.0</td>\n",
              "      <td>4.0</td>\n",
              "      <td>2.50</td>\n",
              "      <td>2560.0</td>\n",
              "      <td>5428.0</td>\n",
              "      <td>2.0</td>\n",
              "      <td>0</td>\n",
              "      <td>0</td>\n",
              "      <td>...</td>\n",
              "      <td>8</td>\n",
              "      <td>2560.0</td>\n",
              "      <td>0</td>\n",
              "      <td>2012</td>\n",
              "      <td>0</td>\n",
              "      <td>98042.0</td>\n",
              "      <td>47.3835</td>\n",
              "      <td>-122.095</td>\n",
              "      <td>2620</td>\n",
              "      <td>5428</td>\n",
              "    </tr>\n",
              "    <tr>\n",
              "      <th>20119</th>\n",
              "      <td>7853220330</td>\n",
              "      <td>20141006T000000</td>\n",
              "      <td>730000.0</td>\n",
              "      <td>4.0</td>\n",
              "      <td>3.50</td>\n",
              "      <td>4420.0</td>\n",
              "      <td>7902.0</td>\n",
              "      <td>2.0</td>\n",
              "      <td>0</td>\n",
              "      <td>0</td>\n",
              "      <td>...</td>\n",
              "      <td>10</td>\n",
              "      <td>3350.0</td>\n",
              "      <td>1070</td>\n",
              "      <td>2004</td>\n",
              "      <td>0</td>\n",
              "      <td>98065.0</td>\n",
              "      <td>47.5327</td>\n",
              "      <td>-121.860</td>\n",
              "      <td>3440</td>\n",
              "      <td>7851</td>\n",
              "    </tr>\n",
              "    <tr>\n",
              "      <th>20120</th>\n",
              "      <td>2968800626</td>\n",
              "      <td>20140822T000000</td>\n",
              "      <td>355000.0</td>\n",
              "      <td>4.0</td>\n",
              "      <td>2.00</td>\n",
              "      <td>1770.0</td>\n",
              "      <td>8890.0</td>\n",
              "      <td>1.0</td>\n",
              "      <td>0</td>\n",
              "      <td>0</td>\n",
              "      <td>...</td>\n",
              "      <td>6</td>\n",
              "      <td>NaN</td>\n",
              "      <td>0</td>\n",
              "      <td>1949</td>\n",
              "      <td>0</td>\n",
              "      <td>98166.0</td>\n",
              "      <td>47.4589</td>\n",
              "      <td>-122.353</td>\n",
              "      <td>1010</td>\n",
              "      <td>7620</td>\n",
              "    </tr>\n",
              "    <tr>\n",
              "      <th>20121</th>\n",
              "      <td>2026079055</td>\n",
              "      <td>20140818T000000</td>\n",
              "      <td>380000.0</td>\n",
              "      <td>1.0</td>\n",
              "      <td>1.50</td>\n",
              "      <td>1200.0</td>\n",
              "      <td>44866.0</td>\n",
              "      <td>1.5</td>\n",
              "      <td>0</td>\n",
              "      <td>0</td>\n",
              "      <td>...</td>\n",
              "      <td>7</td>\n",
              "      <td>1200.0</td>\n",
              "      <td>0</td>\n",
              "      <td>1983</td>\n",
              "      <td>0</td>\n",
              "      <td>98019.0</td>\n",
              "      <td>47.7205</td>\n",
              "      <td>-121.930</td>\n",
              "      <td>1480</td>\n",
              "      <td>67082</td>\n",
              "    </tr>\n",
              "    <tr>\n",
              "      <th>20122</th>\n",
              "      <td>1532300155</td>\n",
              "      <td>20140916T000000</td>\n",
              "      <td>425000.0</td>\n",
              "      <td>4.0</td>\n",
              "      <td>1.00</td>\n",
              "      <td>1080.0</td>\n",
              "      <td>6095.0</td>\n",
              "      <td>1.5</td>\n",
              "      <td>0</td>\n",
              "      <td>0</td>\n",
              "      <td>...</td>\n",
              "      <td>6</td>\n",
              "      <td>1080.0</td>\n",
              "      <td>0</td>\n",
              "      <td>1924</td>\n",
              "      <td>0</td>\n",
              "      <td>98103.0</td>\n",
              "      <td>47.6962</td>\n",
              "      <td>-122.346</td>\n",
              "      <td>1200</td>\n",
              "      <td>5060</td>\n",
              "    </tr>\n",
              "  </tbody>\n",
              "</table>\n",
              "<p>20123 rows × 21 columns</p>\n",
              "</div>\n",
              "      <button class=\"colab-df-convert\" onclick=\"convertToInteractive('df-56710404-82ad-4675-b6fe-5efa5d8b9c84')\"\n",
              "              title=\"Convert this dataframe to an interactive table.\"\n",
              "              style=\"display:none;\">\n",
              "        \n",
              "  <svg xmlns=\"http://www.w3.org/2000/svg\" height=\"24px\"viewBox=\"0 0 24 24\"\n",
              "       width=\"24px\">\n",
              "    <path d=\"M0 0h24v24H0V0z\" fill=\"none\"/>\n",
              "    <path d=\"M18.56 5.44l.94 2.06.94-2.06 2.06-.94-2.06-.94-.94-2.06-.94 2.06-2.06.94zm-11 1L8.5 8.5l.94-2.06 2.06-.94-2.06-.94L8.5 2.5l-.94 2.06-2.06.94zm10 10l.94 2.06.94-2.06 2.06-.94-2.06-.94-.94-2.06-.94 2.06-2.06.94z\"/><path d=\"M17.41 7.96l-1.37-1.37c-.4-.4-.92-.59-1.43-.59-.52 0-1.04.2-1.43.59L10.3 9.45l-7.72 7.72c-.78.78-.78 2.05 0 2.83L4 21.41c.39.39.9.59 1.41.59.51 0 1.02-.2 1.41-.59l7.78-7.78 2.81-2.81c.8-.78.8-2.07 0-2.86zM5.41 20L4 18.59l7.72-7.72 1.47 1.35L5.41 20z\"/>\n",
              "  </svg>\n",
              "      </button>\n",
              "      \n",
              "  <style>\n",
              "    .colab-df-container {\n",
              "      display:flex;\n",
              "      flex-wrap:wrap;\n",
              "      gap: 12px;\n",
              "    }\n",
              "\n",
              "    .colab-df-convert {\n",
              "      background-color: #E8F0FE;\n",
              "      border: none;\n",
              "      border-radius: 50%;\n",
              "      cursor: pointer;\n",
              "      display: none;\n",
              "      fill: #1967D2;\n",
              "      height: 32px;\n",
              "      padding: 0 0 0 0;\n",
              "      width: 32px;\n",
              "    }\n",
              "\n",
              "    .colab-df-convert:hover {\n",
              "      background-color: #E2EBFA;\n",
              "      box-shadow: 0px 1px 2px rgba(60, 64, 67, 0.3), 0px 1px 3px 1px rgba(60, 64, 67, 0.15);\n",
              "      fill: #174EA6;\n",
              "    }\n",
              "\n",
              "    [theme=dark] .colab-df-convert {\n",
              "      background-color: #3B4455;\n",
              "      fill: #D2E3FC;\n",
              "    }\n",
              "\n",
              "    [theme=dark] .colab-df-convert:hover {\n",
              "      background-color: #434B5C;\n",
              "      box-shadow: 0px 1px 3px 1px rgba(0, 0, 0, 0.15);\n",
              "      filter: drop-shadow(0px 1px 2px rgba(0, 0, 0, 0.3));\n",
              "      fill: #FFFFFF;\n",
              "    }\n",
              "  </style>\n",
              "\n",
              "      <script>\n",
              "        const buttonEl =\n",
              "          document.querySelector('#df-56710404-82ad-4675-b6fe-5efa5d8b9c84 button.colab-df-convert');\n",
              "        buttonEl.style.display =\n",
              "          google.colab.kernel.accessAllowed ? 'block' : 'none';\n",
              "\n",
              "        async function convertToInteractive(key) {\n",
              "          const element = document.querySelector('#df-56710404-82ad-4675-b6fe-5efa5d8b9c84');\n",
              "          const dataTable =\n",
              "            await google.colab.kernel.invokeFunction('convertToInteractive',\n",
              "                                                     [key], {});\n",
              "          if (!dataTable) return;\n",
              "\n",
              "          const docLinkHtml = 'Like what you see? Visit the ' +\n",
              "            '<a target=\"_blank\" href=https://colab.research.google.com/notebooks/data_table.ipynb>data table notebook</a>'\n",
              "            + ' to learn more about interactive tables.';\n",
              "          element.innerHTML = '';\n",
              "          dataTable['output_type'] = 'display_data';\n",
              "          await google.colab.output.renderOutput(dataTable, element);\n",
              "          const docLink = document.createElement('div');\n",
              "          docLink.innerHTML = docLinkHtml;\n",
              "          element.appendChild(docLink);\n",
              "        }\n",
              "      </script>\n",
              "    </div>\n",
              "  </div>\n",
              "  "
            ]
          },
          "metadata": {},
          "execution_count": 314
        }
      ]
    },
    {
      "cell_type": "code",
      "source": [
        "df.sample(10)"
      ],
      "metadata": {
        "colab": {
          "base_uri": "https://localhost:8080/",
          "height": 456
        },
        "id": "yeNQ3Dv8bImo",
        "outputId": "d36b98e4-6e3e-4c92-e4e7-54cebe8a408e"
      },
      "execution_count": 315,
      "outputs": [
        {
          "output_type": "execute_result",
          "data": {
            "text/plain": [
              "               id             date     price  bedrooms  bathrooms  \\\n",
              "1765   4022905473  20141205T000000  565000.0       5.0       3.00   \n",
              "9304   2425700005  20150428T000000  760000.0       3.0       1.75   \n",
              "19876  6431000749  20140922T000000  349000.0       3.0       3.25   \n",
              "15036  8651402750  20150430T000000  219950.0       3.0       1.50   \n",
              "17661  3903200050  20150324T000000  263950.0       3.0       1.75   \n",
              "19748  6181430800  20150105T000000  330000.0       4.0       2.50   \n",
              "10612  3876000910  20150129T000000  487000.0       4.0       2.25   \n",
              "15017  7577700521  20141001T000000  539000.0       2.0       1.75   \n",
              "7627   7129303070  20140820T000000  735000.0       4.0       2.75   \n",
              "10783  5249803645  20140829T000000  452000.0       2.0       1.00   \n",
              "\n",
              "       sqft_living  sqft_lot  floors  waterfront  view  ...  grade  \\\n",
              "1765        2560.0   12480.0     1.0           0     0  ...      8   \n",
              "9304        1410.0   15120.0     1.0           0     0  ...      7   \n",
              "19876       1340.0    1151.0     3.0           0     0  ...      7   \n",
              "15036       1210.0    5200.0     1.0           0     0  ...      6   \n",
              "17661       1700.0   11613.0     1.0           0     0  ...      7   \n",
              "19748       3504.0    6000.0     2.0           0     0  ...      7   \n",
              "10612       2400.0    7000.0     1.0           0     0  ...      8   \n",
              "15017       1900.0    5175.0     1.0           0     0  ...      7   \n",
              "7627        3040.0    2415.0     2.0           1     4  ...      8   \n",
              "10783       1220.0    6000.0     1.0           0     0  ...      6   \n",
              "\n",
              "       sqft_above  sqft_basement  yr_built  yr_renovated  zipcode      lat  \\\n",
              "1765       1590.0            970      2012             0  98155.0  47.7657   \n",
              "9304       1410.0              0      1950             0  98004.0  47.5974   \n",
              "19876      1340.0              0      2008             0  98103.0  47.6904   \n",
              "15036      1210.0              0      1969             0  98042.0  47.3615   \n",
              "17661      1180.0            520      1977             0  98092.0  47.2874   \n",
              "19748      3504.0              0      2006             0  98001.0  47.3012   \n",
              "10612      1800.0            600      1965             0  98034.0  47.7207   \n",
              "15017      1200.0            700      1919             0  98116.0  47.5689   \n",
              "7627       3040.0              0      1966             0  98118.0  47.5188   \n",
              "10783       880.0            340      1938             0  98118.0  47.5647   \n",
              "\n",
              "          long  sqft_living15  sqft_lot15  \n",
              "1765  -122.284           2500       17299  \n",
              "9304  -122.195           1880       15120  \n",
              "19876 -122.346           1290        1200  \n",
              "15036 -122.087           1120        5200  \n",
              "17661 -122.187           1500       12377  \n",
              "19748 -122.285           2790        5231  \n",
              "10612 -122.184           2210        7210  \n",
              "15017 -122.386           1370        5175  \n",
              "7627  -122.256           2620        2433  \n",
              "10783 -122.270           1220        6840  \n",
              "\n",
              "[10 rows x 21 columns]"
            ],
            "text/html": [
              "\n",
              "  <div id=\"df-2d6f6bf0-ced1-49e7-9c0a-36db0cecf5a4\">\n",
              "    <div class=\"colab-df-container\">\n",
              "      <div>\n",
              "<style scoped>\n",
              "    .dataframe tbody tr th:only-of-type {\n",
              "        vertical-align: middle;\n",
              "    }\n",
              "\n",
              "    .dataframe tbody tr th {\n",
              "        vertical-align: top;\n",
              "    }\n",
              "\n",
              "    .dataframe thead th {\n",
              "        text-align: right;\n",
              "    }\n",
              "</style>\n",
              "<table border=\"1\" class=\"dataframe\">\n",
              "  <thead>\n",
              "    <tr style=\"text-align: right;\">\n",
              "      <th></th>\n",
              "      <th>id</th>\n",
              "      <th>date</th>\n",
              "      <th>price</th>\n",
              "      <th>bedrooms</th>\n",
              "      <th>bathrooms</th>\n",
              "      <th>sqft_living</th>\n",
              "      <th>sqft_lot</th>\n",
              "      <th>floors</th>\n",
              "      <th>waterfront</th>\n",
              "      <th>view</th>\n",
              "      <th>...</th>\n",
              "      <th>grade</th>\n",
              "      <th>sqft_above</th>\n",
              "      <th>sqft_basement</th>\n",
              "      <th>yr_built</th>\n",
              "      <th>yr_renovated</th>\n",
              "      <th>zipcode</th>\n",
              "      <th>lat</th>\n",
              "      <th>long</th>\n",
              "      <th>sqft_living15</th>\n",
              "      <th>sqft_lot15</th>\n",
              "    </tr>\n",
              "  </thead>\n",
              "  <tbody>\n",
              "    <tr>\n",
              "      <th>1765</th>\n",
              "      <td>4022905473</td>\n",
              "      <td>20141205T000000</td>\n",
              "      <td>565000.0</td>\n",
              "      <td>5.0</td>\n",
              "      <td>3.00</td>\n",
              "      <td>2560.0</td>\n",
              "      <td>12480.0</td>\n",
              "      <td>1.0</td>\n",
              "      <td>0</td>\n",
              "      <td>0</td>\n",
              "      <td>...</td>\n",
              "      <td>8</td>\n",
              "      <td>1590.0</td>\n",
              "      <td>970</td>\n",
              "      <td>2012</td>\n",
              "      <td>0</td>\n",
              "      <td>98155.0</td>\n",
              "      <td>47.7657</td>\n",
              "      <td>-122.284</td>\n",
              "      <td>2500</td>\n",
              "      <td>17299</td>\n",
              "    </tr>\n",
              "    <tr>\n",
              "      <th>9304</th>\n",
              "      <td>2425700005</td>\n",
              "      <td>20150428T000000</td>\n",
              "      <td>760000.0</td>\n",
              "      <td>3.0</td>\n",
              "      <td>1.75</td>\n",
              "      <td>1410.0</td>\n",
              "      <td>15120.0</td>\n",
              "      <td>1.0</td>\n",
              "      <td>0</td>\n",
              "      <td>0</td>\n",
              "      <td>...</td>\n",
              "      <td>7</td>\n",
              "      <td>1410.0</td>\n",
              "      <td>0</td>\n",
              "      <td>1950</td>\n",
              "      <td>0</td>\n",
              "      <td>98004.0</td>\n",
              "      <td>47.5974</td>\n",
              "      <td>-122.195</td>\n",
              "      <td>1880</td>\n",
              "      <td>15120</td>\n",
              "    </tr>\n",
              "    <tr>\n",
              "      <th>19876</th>\n",
              "      <td>6431000749</td>\n",
              "      <td>20140922T000000</td>\n",
              "      <td>349000.0</td>\n",
              "      <td>3.0</td>\n",
              "      <td>3.25</td>\n",
              "      <td>1340.0</td>\n",
              "      <td>1151.0</td>\n",
              "      <td>3.0</td>\n",
              "      <td>0</td>\n",
              "      <td>0</td>\n",
              "      <td>...</td>\n",
              "      <td>7</td>\n",
              "      <td>1340.0</td>\n",
              "      <td>0</td>\n",
              "      <td>2008</td>\n",
              "      <td>0</td>\n",
              "      <td>98103.0</td>\n",
              "      <td>47.6904</td>\n",
              "      <td>-122.346</td>\n",
              "      <td>1290</td>\n",
              "      <td>1200</td>\n",
              "    </tr>\n",
              "    <tr>\n",
              "      <th>15036</th>\n",
              "      <td>8651402750</td>\n",
              "      <td>20150430T000000</td>\n",
              "      <td>219950.0</td>\n",
              "      <td>3.0</td>\n",
              "      <td>1.50</td>\n",
              "      <td>1210.0</td>\n",
              "      <td>5200.0</td>\n",
              "      <td>1.0</td>\n",
              "      <td>0</td>\n",
              "      <td>0</td>\n",
              "      <td>...</td>\n",
              "      <td>6</td>\n",
              "      <td>1210.0</td>\n",
              "      <td>0</td>\n",
              "      <td>1969</td>\n",
              "      <td>0</td>\n",
              "      <td>98042.0</td>\n",
              "      <td>47.3615</td>\n",
              "      <td>-122.087</td>\n",
              "      <td>1120</td>\n",
              "      <td>5200</td>\n",
              "    </tr>\n",
              "    <tr>\n",
              "      <th>17661</th>\n",
              "      <td>3903200050</td>\n",
              "      <td>20150324T000000</td>\n",
              "      <td>263950.0</td>\n",
              "      <td>3.0</td>\n",
              "      <td>1.75</td>\n",
              "      <td>1700.0</td>\n",
              "      <td>11613.0</td>\n",
              "      <td>1.0</td>\n",
              "      <td>0</td>\n",
              "      <td>0</td>\n",
              "      <td>...</td>\n",
              "      <td>7</td>\n",
              "      <td>1180.0</td>\n",
              "      <td>520</td>\n",
              "      <td>1977</td>\n",
              "      <td>0</td>\n",
              "      <td>98092.0</td>\n",
              "      <td>47.2874</td>\n",
              "      <td>-122.187</td>\n",
              "      <td>1500</td>\n",
              "      <td>12377</td>\n",
              "    </tr>\n",
              "    <tr>\n",
              "      <th>19748</th>\n",
              "      <td>6181430800</td>\n",
              "      <td>20150105T000000</td>\n",
              "      <td>330000.0</td>\n",
              "      <td>4.0</td>\n",
              "      <td>2.50</td>\n",
              "      <td>3504.0</td>\n",
              "      <td>6000.0</td>\n",
              "      <td>2.0</td>\n",
              "      <td>0</td>\n",
              "      <td>0</td>\n",
              "      <td>...</td>\n",
              "      <td>7</td>\n",
              "      <td>3504.0</td>\n",
              "      <td>0</td>\n",
              "      <td>2006</td>\n",
              "      <td>0</td>\n",
              "      <td>98001.0</td>\n",
              "      <td>47.3012</td>\n",
              "      <td>-122.285</td>\n",
              "      <td>2790</td>\n",
              "      <td>5231</td>\n",
              "    </tr>\n",
              "    <tr>\n",
              "      <th>10612</th>\n",
              "      <td>3876000910</td>\n",
              "      <td>20150129T000000</td>\n",
              "      <td>487000.0</td>\n",
              "      <td>4.0</td>\n",
              "      <td>2.25</td>\n",
              "      <td>2400.0</td>\n",
              "      <td>7000.0</td>\n",
              "      <td>1.0</td>\n",
              "      <td>0</td>\n",
              "      <td>0</td>\n",
              "      <td>...</td>\n",
              "      <td>8</td>\n",
              "      <td>1800.0</td>\n",
              "      <td>600</td>\n",
              "      <td>1965</td>\n",
              "      <td>0</td>\n",
              "      <td>98034.0</td>\n",
              "      <td>47.7207</td>\n",
              "      <td>-122.184</td>\n",
              "      <td>2210</td>\n",
              "      <td>7210</td>\n",
              "    </tr>\n",
              "    <tr>\n",
              "      <th>15017</th>\n",
              "      <td>7577700521</td>\n",
              "      <td>20141001T000000</td>\n",
              "      <td>539000.0</td>\n",
              "      <td>2.0</td>\n",
              "      <td>1.75</td>\n",
              "      <td>1900.0</td>\n",
              "      <td>5175.0</td>\n",
              "      <td>1.0</td>\n",
              "      <td>0</td>\n",
              "      <td>0</td>\n",
              "      <td>...</td>\n",
              "      <td>7</td>\n",
              "      <td>1200.0</td>\n",
              "      <td>700</td>\n",
              "      <td>1919</td>\n",
              "      <td>0</td>\n",
              "      <td>98116.0</td>\n",
              "      <td>47.5689</td>\n",
              "      <td>-122.386</td>\n",
              "      <td>1370</td>\n",
              "      <td>5175</td>\n",
              "    </tr>\n",
              "    <tr>\n",
              "      <th>7627</th>\n",
              "      <td>7129303070</td>\n",
              "      <td>20140820T000000</td>\n",
              "      <td>735000.0</td>\n",
              "      <td>4.0</td>\n",
              "      <td>2.75</td>\n",
              "      <td>3040.0</td>\n",
              "      <td>2415.0</td>\n",
              "      <td>2.0</td>\n",
              "      <td>1</td>\n",
              "      <td>4</td>\n",
              "      <td>...</td>\n",
              "      <td>8</td>\n",
              "      <td>3040.0</td>\n",
              "      <td>0</td>\n",
              "      <td>1966</td>\n",
              "      <td>0</td>\n",
              "      <td>98118.0</td>\n",
              "      <td>47.5188</td>\n",
              "      <td>-122.256</td>\n",
              "      <td>2620</td>\n",
              "      <td>2433</td>\n",
              "    </tr>\n",
              "    <tr>\n",
              "      <th>10783</th>\n",
              "      <td>5249803645</td>\n",
              "      <td>20140829T000000</td>\n",
              "      <td>452000.0</td>\n",
              "      <td>2.0</td>\n",
              "      <td>1.00</td>\n",
              "      <td>1220.0</td>\n",
              "      <td>6000.0</td>\n",
              "      <td>1.0</td>\n",
              "      <td>0</td>\n",
              "      <td>0</td>\n",
              "      <td>...</td>\n",
              "      <td>6</td>\n",
              "      <td>880.0</td>\n",
              "      <td>340</td>\n",
              "      <td>1938</td>\n",
              "      <td>0</td>\n",
              "      <td>98118.0</td>\n",
              "      <td>47.5647</td>\n",
              "      <td>-122.270</td>\n",
              "      <td>1220</td>\n",
              "      <td>6840</td>\n",
              "    </tr>\n",
              "  </tbody>\n",
              "</table>\n",
              "<p>10 rows × 21 columns</p>\n",
              "</div>\n",
              "      <button class=\"colab-df-convert\" onclick=\"convertToInteractive('df-2d6f6bf0-ced1-49e7-9c0a-36db0cecf5a4')\"\n",
              "              title=\"Convert this dataframe to an interactive table.\"\n",
              "              style=\"display:none;\">\n",
              "        \n",
              "  <svg xmlns=\"http://www.w3.org/2000/svg\" height=\"24px\"viewBox=\"0 0 24 24\"\n",
              "       width=\"24px\">\n",
              "    <path d=\"M0 0h24v24H0V0z\" fill=\"none\"/>\n",
              "    <path d=\"M18.56 5.44l.94 2.06.94-2.06 2.06-.94-2.06-.94-.94-2.06-.94 2.06-2.06.94zm-11 1L8.5 8.5l.94-2.06 2.06-.94-2.06-.94L8.5 2.5l-.94 2.06-2.06.94zm10 10l.94 2.06.94-2.06 2.06-.94-2.06-.94-.94-2.06-.94 2.06-2.06.94z\"/><path d=\"M17.41 7.96l-1.37-1.37c-.4-.4-.92-.59-1.43-.59-.52 0-1.04.2-1.43.59L10.3 9.45l-7.72 7.72c-.78.78-.78 2.05 0 2.83L4 21.41c.39.39.9.59 1.41.59.51 0 1.02-.2 1.41-.59l7.78-7.78 2.81-2.81c.8-.78.8-2.07 0-2.86zM5.41 20L4 18.59l7.72-7.72 1.47 1.35L5.41 20z\"/>\n",
              "  </svg>\n",
              "      </button>\n",
              "      \n",
              "  <style>\n",
              "    .colab-df-container {\n",
              "      display:flex;\n",
              "      flex-wrap:wrap;\n",
              "      gap: 12px;\n",
              "    }\n",
              "\n",
              "    .colab-df-convert {\n",
              "      background-color: #E8F0FE;\n",
              "      border: none;\n",
              "      border-radius: 50%;\n",
              "      cursor: pointer;\n",
              "      display: none;\n",
              "      fill: #1967D2;\n",
              "      height: 32px;\n",
              "      padding: 0 0 0 0;\n",
              "      width: 32px;\n",
              "    }\n",
              "\n",
              "    .colab-df-convert:hover {\n",
              "      background-color: #E2EBFA;\n",
              "      box-shadow: 0px 1px 2px rgba(60, 64, 67, 0.3), 0px 1px 3px 1px rgba(60, 64, 67, 0.15);\n",
              "      fill: #174EA6;\n",
              "    }\n",
              "\n",
              "    [theme=dark] .colab-df-convert {\n",
              "      background-color: #3B4455;\n",
              "      fill: #D2E3FC;\n",
              "    }\n",
              "\n",
              "    [theme=dark] .colab-df-convert:hover {\n",
              "      background-color: #434B5C;\n",
              "      box-shadow: 0px 1px 3px 1px rgba(0, 0, 0, 0.15);\n",
              "      filter: drop-shadow(0px 1px 2px rgba(0, 0, 0, 0.3));\n",
              "      fill: #FFFFFF;\n",
              "    }\n",
              "  </style>\n",
              "\n",
              "      <script>\n",
              "        const buttonEl =\n",
              "          document.querySelector('#df-2d6f6bf0-ced1-49e7-9c0a-36db0cecf5a4 button.colab-df-convert');\n",
              "        buttonEl.style.display =\n",
              "          google.colab.kernel.accessAllowed ? 'block' : 'none';\n",
              "\n",
              "        async function convertToInteractive(key) {\n",
              "          const element = document.querySelector('#df-2d6f6bf0-ced1-49e7-9c0a-36db0cecf5a4');\n",
              "          const dataTable =\n",
              "            await google.colab.kernel.invokeFunction('convertToInteractive',\n",
              "                                                     [key], {});\n",
              "          if (!dataTable) return;\n",
              "\n",
              "          const docLinkHtml = 'Like what you see? Visit the ' +\n",
              "            '<a target=\"_blank\" href=https://colab.research.google.com/notebooks/data_table.ipynb>data table notebook</a>'\n",
              "            + ' to learn more about interactive tables.';\n",
              "          element.innerHTML = '';\n",
              "          dataTable['output_type'] = 'display_data';\n",
              "          await google.colab.output.renderOutput(dataTable, element);\n",
              "          const docLink = document.createElement('div');\n",
              "          docLink.innerHTML = docLinkHtml;\n",
              "          element.appendChild(docLink);\n",
              "        }\n",
              "      </script>\n",
              "    </div>\n",
              "  </div>\n",
              "  "
            ]
          },
          "metadata": {},
          "execution_count": 315
        }
      ]
    },
    {
      "cell_type": "code",
      "source": [
        "df.shape"
      ],
      "metadata": {
        "colab": {
          "base_uri": "https://localhost:8080/"
        },
        "id": "-gno6lWjbNkL",
        "outputId": "d4f63102-6c8a-4b3c-a645-25a071d760d6"
      },
      "execution_count": 316,
      "outputs": [
        {
          "output_type": "execute_result",
          "data": {
            "text/plain": [
              "(20123, 21)"
            ]
          },
          "metadata": {},
          "execution_count": 316
        }
      ]
    },
    {
      "cell_type": "markdown",
      "source": [
        "NX: Bộ dữ liệu trên có 20123 sample và 21 feature."
      ],
      "metadata": {
        "id": "YLmCZAH8bPf0"
      }
    },
    {
      "cell_type": "markdown",
      "source": [
        "##CÂU 2: Trả về số lượng bị khuyết của từng cột."
      ],
      "metadata": {
        "id": "LBIprbbuYbnT"
      }
    },
    {
      "cell_type": "code",
      "source": [
        "df.info()"
      ],
      "metadata": {
        "colab": {
          "base_uri": "https://localhost:8080/"
        },
        "id": "1RF01dKyWIgM",
        "outputId": "36fdd853-a6e1-4095-ab74-76f349806ba7"
      },
      "execution_count": 317,
      "outputs": [
        {
          "output_type": "stream",
          "name": "stdout",
          "text": [
            "<class 'pandas.core.frame.DataFrame'>\n",
            "RangeIndex: 20123 entries, 0 to 20122\n",
            "Data columns (total 21 columns):\n",
            " #   Column         Non-Null Count  Dtype  \n",
            "---  ------         --------------  -----  \n",
            " 0   id             20123 non-null  int64  \n",
            " 1   date           20123 non-null  object \n",
            " 2   price          20119 non-null  float64\n",
            " 3   bedrooms       20111 non-null  float64\n",
            " 4   bathrooms      20114 non-null  float64\n",
            " 5   sqft_living    20120 non-null  float64\n",
            " 6   sqft_lot       20121 non-null  float64\n",
            " 7   floors         20123 non-null  float64\n",
            " 8   waterfront     20123 non-null  int64  \n",
            " 9   view           20123 non-null  int64  \n",
            " 10  condition      20122 non-null  float64\n",
            " 11  grade          20123 non-null  int64  \n",
            " 12  sqft_above     20118 non-null  float64\n",
            " 13  sqft_basement  20123 non-null  int64  \n",
            " 14  yr_built       20123 non-null  int64  \n",
            " 15  yr_renovated   20123 non-null  int64  \n",
            " 16  zipcode        20122 non-null  float64\n",
            " 17  lat            20123 non-null  float64\n",
            " 18  long           20123 non-null  float64\n",
            " 19  sqft_living15  20123 non-null  int64  \n",
            " 20  sqft_lot15     20123 non-null  int64  \n",
            "dtypes: float64(11), int64(9), object(1)\n",
            "memory usage: 3.2+ MB\n"
          ]
        }
      ]
    },
    {
      "cell_type": "code",
      "source": [
        "df.isnull().sum()"
      ],
      "metadata": {
        "colab": {
          "base_uri": "https://localhost:8080/"
        },
        "id": "4ENggnNHbhBQ",
        "outputId": "72982898-24b5-452d-a869-7b19c5189663"
      },
      "execution_count": 318,
      "outputs": [
        {
          "output_type": "execute_result",
          "data": {
            "text/plain": [
              "id                0\n",
              "date              0\n",
              "price             4\n",
              "bedrooms         12\n",
              "bathrooms         9\n",
              "sqft_living       3\n",
              "sqft_lot          2\n",
              "floors            0\n",
              "waterfront        0\n",
              "view              0\n",
              "condition         1\n",
              "grade             0\n",
              "sqft_above        5\n",
              "sqft_basement     0\n",
              "yr_built          0\n",
              "yr_renovated      0\n",
              "zipcode           1\n",
              "lat               0\n",
              "long              0\n",
              "sqft_living15     0\n",
              "sqft_lot15        0\n",
              "dtype: int64"
            ]
          },
          "metadata": {},
          "execution_count": 318
        }
      ]
    },
    {
      "cell_type": "markdown",
      "source": [
        "##CÂU 3: Xử lý các giá trị bị khuyết theo yêu cầu."
      ],
      "metadata": {
        "id": "fhdWvNAWYd1y"
      }
    },
    {
      "cell_type": "code",
      "source": [
        "df['bedrooms'].fillna(df['bedrooms'].mean(),inplace=True)"
      ],
      "metadata": {
        "id": "f1oNuT_oWIcx"
      },
      "execution_count": 319,
      "outputs": []
    },
    {
      "cell_type": "code",
      "source": [
        "df['sqft_basement'].fillna(df['sqft_basement'].median(),inplace=True)"
      ],
      "metadata": {
        "id": "HKQXpag5b7nr"
      },
      "execution_count": 320,
      "outputs": []
    },
    {
      "cell_type": "code",
      "source": [
        "import random"
      ],
      "metadata": {
        "id": "VmaEATeEcLIi"
      },
      "execution_count": 321,
      "outputs": []
    },
    {
      "cell_type": "code",
      "source": [
        "df['view'].fillna(random.choice(df['view']),inplace=True)"
      ],
      "metadata": {
        "id": "rYhrZWwUcLGH"
      },
      "execution_count": 322,
      "outputs": []
    },
    {
      "cell_type": "code",
      "source": [
        "df['bathrooms'].fillna(df['bathrooms'].mean(),inplace=True)"
      ],
      "metadata": {
        "id": "1ivFlH5wcK9M"
      },
      "execution_count": 323,
      "outputs": []
    },
    {
      "cell_type": "code",
      "source": [
        "df['sqft_lot'].fillna(df['sqft_lot'].mode(),inplace=True)"
      ],
      "metadata": {
        "id": "nQl8DTwAcjdX"
      },
      "execution_count": 324,
      "outputs": []
    },
    {
      "cell_type": "code",
      "source": [
        "df['price'].fillna(df['price'].median(),inplace=True)"
      ],
      "metadata": {
        "id": "zFokucgkcvxr"
      },
      "execution_count": 325,
      "outputs": []
    },
    {
      "cell_type": "code",
      "source": [
        "df['condition'].fillna( df['condition'].mean(),inplace=True)"
      ],
      "metadata": {
        "id": "44yjAnsgdBsc"
      },
      "execution_count": 326,
      "outputs": []
    },
    {
      "cell_type": "code",
      "source": [
        "df['sqft_above'].fillna( df['sqft_above'].mean(),inplace=True)"
      ],
      "metadata": {
        "id": "nGmVE5podBYH"
      },
      "execution_count": 327,
      "outputs": []
    },
    {
      "cell_type": "code",
      "source": [
        "df['zipcode'].fillna(df['zipcode'].mean(),inplace=True)"
      ],
      "metadata": {
        "id": "Cn5C_5gWdXmO"
      },
      "execution_count": 328,
      "outputs": []
    },
    {
      "cell_type": "code",
      "source": [
        "df['sqft_living'].fillna(df['sqft_living'].median(),inplace=True)"
      ],
      "metadata": {
        "id": "hXvGkFjjdmfQ"
      },
      "execution_count": 329,
      "outputs": []
    },
    {
      "cell_type": "code",
      "source": [
        "df.isnull().sum()"
      ],
      "metadata": {
        "colab": {
          "base_uri": "https://localhost:8080/"
        },
        "id": "3b2TaYepdd3-",
        "outputId": "c5328546-d42c-4e5f-faf8-b4000c4c2553"
      },
      "execution_count": 330,
      "outputs": [
        {
          "output_type": "execute_result",
          "data": {
            "text/plain": [
              "id               0\n",
              "date             0\n",
              "price            0\n",
              "bedrooms         0\n",
              "bathrooms        0\n",
              "sqft_living      0\n",
              "sqft_lot         2\n",
              "floors           0\n",
              "waterfront       0\n",
              "view             0\n",
              "condition        0\n",
              "grade            0\n",
              "sqft_above       0\n",
              "sqft_basement    0\n",
              "yr_built         0\n",
              "yr_renovated     0\n",
              "zipcode          0\n",
              "lat              0\n",
              "long             0\n",
              "sqft_living15    0\n",
              "sqft_lot15       0\n",
              "dtype: int64"
            ]
          },
          "metadata": {},
          "execution_count": 330
        }
      ]
    },
    {
      "cell_type": "markdown",
      "source": [
        "NX: Dùng mode() không giải quyết được hết giá trị NaN."
      ],
      "metadata": {
        "id": "pafRRJJXspWy"
      }
    },
    {
      "cell_type": "markdown",
      "source": [
        "##CÂU 4: Chuyển đơn vị Foot sang m2"
      ],
      "metadata": {
        "id": "wmFwstYVYf5N"
      }
    },
    {
      "cell_type": "code",
      "source": [
        "df['sqft_living']"
      ],
      "metadata": {
        "colab": {
          "base_uri": "https://localhost:8080/"
        },
        "id": "qF5Jp2jTkoHt",
        "outputId": "5fafd7c5-0e5c-41de-ed5e-4902b69934c2"
      },
      "execution_count": 331,
      "outputs": [
        {
          "output_type": "execute_result",
          "data": {
            "text/plain": [
              "0        2070.0\n",
              "1        2192.0\n",
              "2        2220.0\n",
              "3        1160.0\n",
              "4         870.0\n",
              "          ...  \n",
              "20118    2560.0\n",
              "20119    4420.0\n",
              "20120    1770.0\n",
              "20121    1200.0\n",
              "20122    1080.0\n",
              "Name: sqft_living, Length: 20123, dtype: float64"
            ]
          },
          "metadata": {},
          "execution_count": 331
        }
      ]
    },
    {
      "cell_type": "code",
      "source": [
        "df['sqft_living']=df['sqft_living']*0.092903\n",
        "df['sqft_lot']=df['sqft_lot']*0.092903\n",
        "df['sqft_above']=df['sqft_above']*0.092903\n",
        "df['sqft_basement']=df['sqft_basement']*0.092903\n",
        "df['sqft_living15']=df['sqft_living15']*0.092903\n",
        "df['sqft_lot15']=df['sqft_lot15']*0.092903"
      ],
      "metadata": {
        "id": "ocV43D-OWIaW"
      },
      "execution_count": 332,
      "outputs": []
    },
    {
      "cell_type": "code",
      "source": [
        "df['sqft_living']"
      ],
      "metadata": {
        "colab": {
          "base_uri": "https://localhost:8080/"
        },
        "id": "UgUN-oI4hnPI",
        "outputId": "9d6d19d3-9b0f-418d-a07d-b84008a2fe45"
      },
      "execution_count": 333,
      "outputs": [
        {
          "output_type": "execute_result",
          "data": {
            "text/plain": [
              "0        192.309210\n",
              "1        203.643376\n",
              "2        206.244660\n",
              "3        107.767480\n",
              "4         80.825610\n",
              "            ...    \n",
              "20118    237.831680\n",
              "20119    410.631260\n",
              "20120    164.438310\n",
              "20121    111.483600\n",
              "20122    100.335240\n",
              "Name: sqft_living, Length: 20123, dtype: float64"
            ]
          },
          "metadata": {},
          "execution_count": 333
        }
      ]
    },
    {
      "cell_type": "markdown",
      "source": [
        "##CÂU 5: Đếm các giá trị duy nhất trong cột Floors. Tạo một DataFrame từ đó, trực quan kết quả thu được và nhận xét."
      ],
      "metadata": {
        "id": "JRDbDELxYjMh"
      }
    },
    {
      "cell_type": "code",
      "source": [
        "count_floors=df['floors'].value_counts()"
      ],
      "metadata": {
        "id": "4UuzYKVrWITO"
      },
      "execution_count": 334,
      "outputs": []
    },
    {
      "cell_type": "code",
      "source": [
        "df_floors=pd.DataFrame(count_floors)"
      ],
      "metadata": {
        "id": "45oTaxc1WIHz"
      },
      "execution_count": 335,
      "outputs": []
    },
    {
      "cell_type": "code",
      "source": [
        "df_floors"
      ],
      "metadata": {
        "colab": {
          "base_uri": "https://localhost:8080/",
          "height": 237
        },
        "id": "Y8JAbDIKfW6D",
        "outputId": "9b83831c-c1e9-4bc3-9967-c9b9c0b38712"
      },
      "execution_count": 336,
      "outputs": [
        {
          "output_type": "execute_result",
          "data": {
            "text/plain": [
              "     floors\n",
              "1.0    9951\n",
              "2.0    7675\n",
              "1.5    1772\n",
              "3.0     566\n",
              "2.5     153\n",
              "3.5       6"
            ],
            "text/html": [
              "\n",
              "  <div id=\"df-9c99457b-2c06-4004-85d3-2be94f8254bc\">\n",
              "    <div class=\"colab-df-container\">\n",
              "      <div>\n",
              "<style scoped>\n",
              "    .dataframe tbody tr th:only-of-type {\n",
              "        vertical-align: middle;\n",
              "    }\n",
              "\n",
              "    .dataframe tbody tr th {\n",
              "        vertical-align: top;\n",
              "    }\n",
              "\n",
              "    .dataframe thead th {\n",
              "        text-align: right;\n",
              "    }\n",
              "</style>\n",
              "<table border=\"1\" class=\"dataframe\">\n",
              "  <thead>\n",
              "    <tr style=\"text-align: right;\">\n",
              "      <th></th>\n",
              "      <th>floors</th>\n",
              "    </tr>\n",
              "  </thead>\n",
              "  <tbody>\n",
              "    <tr>\n",
              "      <th>1.0</th>\n",
              "      <td>9951</td>\n",
              "    </tr>\n",
              "    <tr>\n",
              "      <th>2.0</th>\n",
              "      <td>7675</td>\n",
              "    </tr>\n",
              "    <tr>\n",
              "      <th>1.5</th>\n",
              "      <td>1772</td>\n",
              "    </tr>\n",
              "    <tr>\n",
              "      <th>3.0</th>\n",
              "      <td>566</td>\n",
              "    </tr>\n",
              "    <tr>\n",
              "      <th>2.5</th>\n",
              "      <td>153</td>\n",
              "    </tr>\n",
              "    <tr>\n",
              "      <th>3.5</th>\n",
              "      <td>6</td>\n",
              "    </tr>\n",
              "  </tbody>\n",
              "</table>\n",
              "</div>\n",
              "      <button class=\"colab-df-convert\" onclick=\"convertToInteractive('df-9c99457b-2c06-4004-85d3-2be94f8254bc')\"\n",
              "              title=\"Convert this dataframe to an interactive table.\"\n",
              "              style=\"display:none;\">\n",
              "        \n",
              "  <svg xmlns=\"http://www.w3.org/2000/svg\" height=\"24px\"viewBox=\"0 0 24 24\"\n",
              "       width=\"24px\">\n",
              "    <path d=\"M0 0h24v24H0V0z\" fill=\"none\"/>\n",
              "    <path d=\"M18.56 5.44l.94 2.06.94-2.06 2.06-.94-2.06-.94-.94-2.06-.94 2.06-2.06.94zm-11 1L8.5 8.5l.94-2.06 2.06-.94-2.06-.94L8.5 2.5l-.94 2.06-2.06.94zm10 10l.94 2.06.94-2.06 2.06-.94-2.06-.94-.94-2.06-.94 2.06-2.06.94z\"/><path d=\"M17.41 7.96l-1.37-1.37c-.4-.4-.92-.59-1.43-.59-.52 0-1.04.2-1.43.59L10.3 9.45l-7.72 7.72c-.78.78-.78 2.05 0 2.83L4 21.41c.39.39.9.59 1.41.59.51 0 1.02-.2 1.41-.59l7.78-7.78 2.81-2.81c.8-.78.8-2.07 0-2.86zM5.41 20L4 18.59l7.72-7.72 1.47 1.35L5.41 20z\"/>\n",
              "  </svg>\n",
              "      </button>\n",
              "      \n",
              "  <style>\n",
              "    .colab-df-container {\n",
              "      display:flex;\n",
              "      flex-wrap:wrap;\n",
              "      gap: 12px;\n",
              "    }\n",
              "\n",
              "    .colab-df-convert {\n",
              "      background-color: #E8F0FE;\n",
              "      border: none;\n",
              "      border-radius: 50%;\n",
              "      cursor: pointer;\n",
              "      display: none;\n",
              "      fill: #1967D2;\n",
              "      height: 32px;\n",
              "      padding: 0 0 0 0;\n",
              "      width: 32px;\n",
              "    }\n",
              "\n",
              "    .colab-df-convert:hover {\n",
              "      background-color: #E2EBFA;\n",
              "      box-shadow: 0px 1px 2px rgba(60, 64, 67, 0.3), 0px 1px 3px 1px rgba(60, 64, 67, 0.15);\n",
              "      fill: #174EA6;\n",
              "    }\n",
              "\n",
              "    [theme=dark] .colab-df-convert {\n",
              "      background-color: #3B4455;\n",
              "      fill: #D2E3FC;\n",
              "    }\n",
              "\n",
              "    [theme=dark] .colab-df-convert:hover {\n",
              "      background-color: #434B5C;\n",
              "      box-shadow: 0px 1px 3px 1px rgba(0, 0, 0, 0.15);\n",
              "      filter: drop-shadow(0px 1px 2px rgba(0, 0, 0, 0.3));\n",
              "      fill: #FFFFFF;\n",
              "    }\n",
              "  </style>\n",
              "\n",
              "      <script>\n",
              "        const buttonEl =\n",
              "          document.querySelector('#df-9c99457b-2c06-4004-85d3-2be94f8254bc button.colab-df-convert');\n",
              "        buttonEl.style.display =\n",
              "          google.colab.kernel.accessAllowed ? 'block' : 'none';\n",
              "\n",
              "        async function convertToInteractive(key) {\n",
              "          const element = document.querySelector('#df-9c99457b-2c06-4004-85d3-2be94f8254bc');\n",
              "          const dataTable =\n",
              "            await google.colab.kernel.invokeFunction('convertToInteractive',\n",
              "                                                     [key], {});\n",
              "          if (!dataTable) return;\n",
              "\n",
              "          const docLinkHtml = 'Like what you see? Visit the ' +\n",
              "            '<a target=\"_blank\" href=https://colab.research.google.com/notebooks/data_table.ipynb>data table notebook</a>'\n",
              "            + ' to learn more about interactive tables.';\n",
              "          element.innerHTML = '';\n",
              "          dataTable['output_type'] = 'display_data';\n",
              "          await google.colab.output.renderOutput(dataTable, element);\n",
              "          const docLink = document.createElement('div');\n",
              "          docLink.innerHTML = docLinkHtml;\n",
              "          element.appendChild(docLink);\n",
              "        }\n",
              "      </script>\n",
              "    </div>\n",
              "  </div>\n",
              "  "
            ]
          },
          "metadata": {},
          "execution_count": 336
        }
      ]
    },
    {
      "cell_type": "code",
      "source": [
        "df_floors.plot(kind='bar')"
      ],
      "metadata": {
        "colab": {
          "base_uri": "https://localhost:8080/",
          "height": 288
        },
        "id": "v2oMaR87fWL0",
        "outputId": "b79ee068-9104-4f9c-96eb-ef7fdf18dfce"
      },
      "execution_count": 337,
      "outputs": [
        {
          "output_type": "execute_result",
          "data": {
            "text/plain": [
              "<matplotlib.axes._subplots.AxesSubplot at 0x7f8fa09a0f40>"
            ]
          },
          "metadata": {},
          "execution_count": 337
        },
        {
          "output_type": "display_data",
          "data": {
            "text/plain": [
              "<Figure size 432x288 with 1 Axes>"
            ],
            "image/png": "[encoded data removed]"
          },
          "metadata": {
            "needs_background": "light"
          }
        }
      ]
    },
    {
      "cell_type": "markdown",
      "source": [
        "NX: \n",
        "Từ biểu đồ ta có thể nhìn thấy rằng có sự không cân bằng về mặt, có thể thấy phần lớn chỉ tập trung vào floors=1 và floors=2 chiếm hơn một nửa giá trị còn floors=3, floors=2.5, floors=3.5 chỉ chiếm một lượng nhỏ."
      ],
      "metadata": {
        "id": "lPv1qbfumd4G"
      }
    },
    {
      "cell_type": "markdown",
      "source": [
        "#CÂu 6: Trực quan cột waterfront bằng boxplot theo price. Bình luận"
      ],
      "metadata": {
        "id": "3k4dtBaThAzY"
      }
    },
    {
      "cell_type": "code",
      "source": [
        "sns.boxplot(x=df['waterfront'], y=df['price'])"
      ],
      "metadata": {
        "colab": {
          "base_uri": "https://localhost:8080/",
          "height": 307
        },
        "id": "tcmUg39PffJj",
        "outputId": "b4b61298-f293-4a83-e335-c23ff87ad261"
      },
      "execution_count": 338,
      "outputs": [
        {
          "output_type": "execute_result",
          "data": {
            "text/plain": [
              "<matplotlib.axes._subplots.AxesSubplot at 0x7f8fa09b1e20>"
            ]
          },
          "metadata": {},
          "execution_count": 338
        },
        {
          "output_type": "display_data",
          "data": {
            "text/plain": [
              "<Figure size 432x288 with 1 Axes>"
            ],
            "image/png": "[encoded data removed]"
          },
          "metadata": {
            "needs_background": "light"
          }
        }
      ]
    },
    {
      "cell_type": "markdown",
      "source": [
        "NX: \n",
        "- Có sự mất cân bằng về mặt dữ liệu.\n",
        "- Nhìn qua thì có thể thấy sự chênh lệch giữa nhà có view ra bờ sông và nhà không có view ra bờ sông nhưng lại có một số trường hợp ở các nhà không có view ra bờ sông có giá lại ngang so với các nhà có view bờ sông\n",
        "=> Chưa chắc chắn view ra bờ sông có thực sự ảnh hưởng đến giá nhà, cần dùng thêm nhiều phương pháp để xác minh. "
      ],
      "metadata": {
        "id": "WKGRi9h1naOU"
      }
    },
    {
      "cell_type": "markdown",
      "source": [
        "##CÂU 7: Sử dụng regplot để đánh giá thử các ảnh hưởng của cocojt các loại diện tích so với giá. Phác họa một hình sau đó nhận xét."
      ],
      "metadata": {
        "id": "6i_Yq9g5hDjk"
      }
    },
    {
      "cell_type": "code",
      "source": [
        "feature_sqft_ =[] \n",
        "for i in df.columns: \n",
        "  if 'sqft_' in i: \n",
        "    feature_sqft_.append(i) "
      ],
      "metadata": {
        "id": "ECgHsccXhGFB"
      },
      "execution_count": 339,
      "outputs": []
    },
    {
      "cell_type": "code",
      "source": [
        "feature_sqft_"
      ],
      "metadata": {
        "colab": {
          "base_uri": "https://localhost:8080/"
        },
        "id": "IKSG1e7gjtVI",
        "outputId": "9adf67ce-ff74-456f-f97f-4bd0234626d9"
      },
      "execution_count": 340,
      "outputs": [
        {
          "output_type": "execute_result",
          "data": {
            "text/plain": [
              "['sqft_living',\n",
              " 'sqft_lot',\n",
              " 'sqft_above',\n",
              " 'sqft_basement',\n",
              " 'sqft_living15',\n",
              " 'sqft_lot15']"
            ]
          },
          "metadata": {},
          "execution_count": 340
        }
      ]
    },
    {
      "cell_type": "code",
      "source": [
        "import matplotlib.pyplot as plt\n"
      ],
      "metadata": {
        "id": "j3_ZKcZ7hSi9"
      },
      "execution_count": 341,
      "outputs": []
    },
    {
      "cell_type": "code",
      "source": [
        "fig=plt.figure(figsize=(15,15)) \n",
        "count=1 \n",
        "for i in feature_sqft_: \n",
        "  fig.add_subplot(3,2,count) \n",
        "  sns.regplot(x=df[i], y=df['price']) \n",
        "  count+=1 \n",
        "plt.show()"
      ],
      "metadata": {
        "colab": {
          "base_uri": "https://localhost:8080/",
          "height": 889
        },
        "id": "Yf1GB2kchNEv",
        "outputId": "b11480a2-ba45-4adf-b5d1-8402ac570dc7"
      },
      "execution_count": 342,
      "outputs": [
        {
          "output_type": "display_data",
          "data": {
            "text/plain": [
              "<Figure size 1080x1080 with 6 Axes>"
            ],
            "image/png": "[encoded data removed]"
          },
          "metadata": {
            "needs_background": "light"
          }
        }
      ]
    },
    {
      "cell_type": "markdown",
      "source": [
        "NX:\n",
        "- Từ biểu đồ ta có thể thấy ba thuộc tính sqft_lot, sqft_lot15, sqft_basement không có quan hệ tuyến tính mạnh với giá -> chúng không ảnh hưởng nhiều đến giá nhà.\n",
        "- Ba thuộc tính còn lại đều có quan hệ tuyến tính tương đối với giá nhà -> chúng có ảnh hưởng với giá nhà, không mạnh nhưng cũng không yếu."
      ],
      "metadata": {
        "id": "w4G18vRnr2a-"
      }
    },
    {
      "cell_type": "markdown",
      "source": [
        "##CÂU 8: Với các cột theo đề bài hãy tìm ra một mô hình duy nhất ( sử dụng pipeline)"
      ],
      "metadata": {
        "id": "i_XsEsvdiTBy"
      }
    },
    {
      "cell_type": "code",
      "source": [
        "x8= df[['floors','view','waterfront','bedrooms','grade','bathrooms','sqft_living15','sqft_above','sqft_living','sqft_basement']]\n",
        "y=df['price']"
      ],
      "metadata": {
        "id": "M0vl3vP_h-O-"
      },
      "execution_count": 343,
      "outputs": []
    },
    {
      "cell_type": "code",
      "source": [
        "input = [('Scale',StandardScaler()), \n",
        "         ('polynomial', PolynomialFeatures()), \n",
        "         ('model', LinearRegression()) ]"
      ],
      "metadata": {
        "id": "nScUlGeFi3FK"
      },
      "execution_count": 344,
      "outputs": []
    },
    {
      "cell_type": "code",
      "source": [
        "pipe= Pipeline(input)"
      ],
      "metadata": {
        "id": "owh8WriIjHnD"
      },
      "execution_count": 345,
      "outputs": []
    },
    {
      "cell_type": "code",
      "source": [
        "pipe.fit(x8,y)"
      ],
      "metadata": {
        "colab": {
          "base_uri": "https://localhost:8080/"
        },
        "id": "9VYpaMvzjLa3",
        "outputId": "de2871aa-1e7c-4345-af2b-81582dc3b35e"
      },
      "execution_count": 346,
      "outputs": [
        {
          "output_type": "execute_result",
          "data": {
            "text/plain": [
              "Pipeline(steps=[('Scale', StandardScaler()),\n",
              "                ('polynomial', PolynomialFeatures()),\n",
              "                ('model', LinearRegression())])"
            ]
          },
          "metadata": {},
          "execution_count": 346
        }
      ]
    },
    {
      "cell_type": "code",
      "source": [
        "pipe.score(x8,y)"
      ],
      "metadata": {
        "colab": {
          "base_uri": "https://localhost:8080/"
        },
        "id": "i2nhMqM9jN3-",
        "outputId": "9e9e8889-fb29-43d6-ab08-0aba49610ed2"
      },
      "execution_count": 347,
      "outputs": [
        {
          "output_type": "execute_result",
          "data": {
            "text/plain": [
              "0.6783344960028546"
            ]
          },
          "metadata": {},
          "execution_count": 347
        }
      ]
    },
    {
      "cell_type": "code",
      "source": [
        "y_pred=pipe.predict(x8)"
      ],
      "metadata": {
        "id": "KEZP9-BfjW4i"
      },
      "execution_count": 348,
      "outputs": []
    },
    {
      "cell_type": "code",
      "source": [
        "mean_squared_error(y_pred,y)"
      ],
      "metadata": {
        "colab": {
          "base_uri": "https://localhost:8080/"
        },
        "id": "R3dkX7jRpp3U",
        "outputId": "0a5af956-5ea1-49e5-f001-6ce235d0c7b6"
      },
      "execution_count": 349,
      "outputs": [
        {
          "output_type": "execute_result",
          "data": {
            "text/plain": [
              "43310683941.985115"
            ]
          },
          "metadata": {},
          "execution_count": 349
        }
      ]
    },
    {
      "cell_type": "code",
      "source": [
        "r2_score(y_pred,y)"
      ],
      "metadata": {
        "colab": {
          "base_uri": "https://localhost:8080/"
        },
        "id": "U6qvJvlVp3xY",
        "outputId": "3275bd0d-b052-4845-c9b5-86afafed4a69"
      },
      "execution_count": 350,
      "outputs": [
        {
          "output_type": "execute_result",
          "data": {
            "text/plain": [
              "0.5258050116697612"
            ]
          },
          "metadata": {},
          "execution_count": 350
        }
      ]
    },
    {
      "cell_type": "markdown",
      "source": [
        "##CÂU 9: Chọn tổ hợp 6 biến cho là quan trọng nhất để phát triển mô hình.\n"
      ],
      "metadata": {
        "id": "mTAVrosik-nv"
      }
    },
    {
      "cell_type": "code",
      "source": [
        "x9=df[['view', 'grade', 'bedrooms', 'sqft_living15', 'sqft_above', 'sqft_living']]"
      ],
      "metadata": {
        "id": "0rHC2EldlBMz"
      },
      "execution_count": 351,
      "outputs": []
    },
    {
      "cell_type": "code",
      "source": [
        "input = [('Scale',StandardScaler()), \n",
        "         ('polynomial', PolynomialFeatures(degree=3)), \n",
        "         ('model', LinearRegression()) ]"
      ],
      "metadata": {
        "id": "OSVq2j_Al6Vs"
      },
      "execution_count": 352,
      "outputs": []
    },
    {
      "cell_type": "code",
      "source": [
        "pipe= Pipeline(input)"
      ],
      "metadata": {
        "id": "tEoRqYhgl9lG"
      },
      "execution_count": 353,
      "outputs": []
    },
    {
      "cell_type": "code",
      "source": [
        "pipe.fit(x9,y)"
      ],
      "metadata": {
        "colab": {
          "base_uri": "https://localhost:8080/"
        },
        "id": "P2k4JyEXmAAO",
        "outputId": "20c15b8f-ae2a-4e49-c78b-1ba89c13db8e"
      },
      "execution_count": 354,
      "outputs": [
        {
          "output_type": "execute_result",
          "data": {
            "text/plain": [
              "Pipeline(steps=[('Scale', StandardScaler()),\n",
              "                ('polynomial', PolynomialFeatures(degree=3)),\n",
              "                ('model', LinearRegression())])"
            ]
          },
          "metadata": {},
          "execution_count": 354
        }
      ]
    },
    {
      "cell_type": "code",
      "source": [
        "pipe.score(x9,y)"
      ],
      "metadata": {
        "colab": {
          "base_uri": "https://localhost:8080/"
        },
        "id": "l64ZCpmxmCRy",
        "outputId": "217ccc32-5da1-451b-b2b9-a8b0c0ca0e40"
      },
      "execution_count": 355,
      "outputs": [
        {
          "output_type": "execute_result",
          "data": {
            "text/plain": [
              "0.6679689209952493"
            ]
          },
          "metadata": {},
          "execution_count": 355
        }
      ]
    },
    {
      "cell_type": "code",
      "source": [
        "y_pred2=pipe.predict(x9)"
      ],
      "metadata": {
        "id": "SILWV7i-mYRU"
      },
      "execution_count": 356,
      "outputs": []
    },
    {
      "cell_type": "code",
      "source": [
        "r2_score(y_pred2,y)"
      ],
      "metadata": {
        "colab": {
          "base_uri": "https://localhost:8080/"
        },
        "id": "4e0B9QXDqCx8",
        "outputId": "7d7c4bcf-0c1d-44c6-9de7-820d3ec35aaf"
      },
      "execution_count": 357,
      "outputs": [
        {
          "output_type": "execute_result",
          "data": {
            "text/plain": [
              "0.5029243598488975"
            ]
          },
          "metadata": {},
          "execution_count": 357
        }
      ]
    },
    {
      "cell_type": "code",
      "source": [],
      "metadata": {
        "id": "RHY2VSq0qLYL"
      },
      "execution_count": 357,
      "outputs": []
    }
  ]
}