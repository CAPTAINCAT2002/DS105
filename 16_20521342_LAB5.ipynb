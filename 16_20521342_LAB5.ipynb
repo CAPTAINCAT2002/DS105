{
  "nbformat": 4,
  "nbformat_minor": 0,
  "metadata": {
    "colab": {
      "provenance": []
    },
    "kernelspec": {
      "name": "python3",
      "display_name": "Python 3"
    },
    "language_info": {
      "name": "python"
    }
  },
  "cells": [
    {
      "cell_type": "markdown",
      "source": [
        "#STT: 16\n",
        "\n",
        "#Họ và tên: Lưu Quang Tiến Hoàng\n",
        "\n",
        "#Lớp: DS105.M11.2\n",
        "\n",
        "#Buổi 03 - Lab5"
      ],
      "metadata": {
        "id": "TpaY0gNzrVhx"
      }
    },
    {
      "cell_type": "code",
      "execution_count": 77,
      "metadata": {
        "id": "Ise5EbMirO3L"
      },
      "outputs": [],
      "source": [
        "import pandas as pd\n",
        "import numpy as np\n",
        "import seaborn as sns"
      ]
    },
    {
      "cell_type": "code",
      "source": [],
      "metadata": {
        "id": "in0FavbEuv_2"
      },
      "execution_count": 77,
      "outputs": []
    },
    {
      "cell_type": "markdown",
      "source": [
        "#Câu 1. Tạo dataframe (df) lưu trữ dataset tại đường dẫn trên (chọn cách đọc load từ internet). Xuất 10 samples bất kỳ. Dataset có bao nhiêu sample, số lượng bao nhiêu feature."
      ],
      "metadata": {
        "id": "hRPzK61UuyRk"
      }
    },
    {
      "cell_type": "code",
      "source": [
        "df = pd.read_csv('https://raw.githubusercontent.com/datasethub/ds105/master/Lab_Model_Development.csv')"
      ],
      "metadata": {
        "id": "v6tnZRgjra17"
      },
      "execution_count": 78,
      "outputs": []
    },
    {
      "cell_type": "code",
      "source": [
        "df"
      ],
      "metadata": {
        "colab": {
          "base_uri": "https://localhost:8080/",
          "height": 424
        },
        "id": "hwfvkbF1uhB7",
        "outputId": "cdd16094-e6ea-4351-a9e0-7b5d25a75d9b"
      },
      "execution_count": 79,
      "outputs": [
        {
          "output_type": "execute_result",
          "data": {
            "text/plain": [
              "     curb-weight  engine-size    length     width  horsepower  city-mpg  \\\n",
              "0           2548          130  0.811148  0.890278       111.0        21   \n",
              "1           2548          130  0.811148  0.890278       111.0        21   \n",
              "2           2823          152  0.822681  0.909722       154.0        19   \n",
              "3           2337          109  0.848630  0.919444       102.0        24   \n",
              "4           2824          136  0.848630  0.922222       115.0        18   \n",
              "..           ...          ...       ...       ...         ...       ...   \n",
              "196         2952          141  0.907256  0.956944       114.0        23   \n",
              "197         3049          141  0.907256  0.955556       160.0        19   \n",
              "198         3012          173  0.907256  0.956944       134.0        18   \n",
              "199         3217          145  0.907256  0.956944       106.0        26   \n",
              "200         3062          141  0.907256  0.956944       114.0        19   \n",
              "\n",
              "     highway-mpg  wheel-base  bore    price  \n",
              "0             27        88.6  3.47  13495.0  \n",
              "1             27        88.6  3.47  16500.0  \n",
              "2             26        94.5  2.68  16500.0  \n",
              "3             30        99.8  3.19  13950.0  \n",
              "4             22        99.4  3.19  17450.0  \n",
              "..           ...         ...   ...      ...  \n",
              "196           28       109.1  3.78  16845.0  \n",
              "197           25       109.1  3.78  19045.0  \n",
              "198           23       109.1  3.58  21485.0  \n",
              "199           27       109.1  3.01  22470.0  \n",
              "200           25       109.1  3.78  22625.0  \n",
              "\n",
              "[201 rows x 10 columns]"
            ],
            "text/html": [
              "\n",
              "  <div id=\"df-594ce5e0-d5b6-4275-bcfe-ca9a66b1f0ba\">\n",
              "    <div class=\"colab-df-container\">\n",
              "      <div>\n",
              "<style scoped>\n",
              "    .dataframe tbody tr th:only-of-type {\n",
              "        vertical-align: middle;\n",
              "    }\n",
              "\n",
              "    .dataframe tbody tr th {\n",
              "        vertical-align: top;\n",
              "    }\n",
              "\n",
              "    .dataframe thead th {\n",
              "        text-align: right;\n",
              "    }\n",
              "</style>\n",
              "<table border=\"1\" class=\"dataframe\">\n",
              "  <thead>\n",
              "    <tr style=\"text-align: right;\">\n",
              "      <th></th>\n",
              "      <th>curb-weight</th>\n",
              "      <th>engine-size</th>\n",
              "      <th>length</th>\n",
              "      <th>width</th>\n",
              "      <th>horsepower</th>\n",
              "      <th>city-mpg</th>\n",
              "      <th>highway-mpg</th>\n",
              "      <th>wheel-base</th>\n",
              "      <th>bore</th>\n",
              "      <th>price</th>\n",
              "    </tr>\n",
              "  </thead>\n",
              "  <tbody>\n",
              "    <tr>\n",
              "      <th>0</th>\n",
              "      <td>2548</td>\n",
              "      <td>130</td>\n",
              "      <td>0.811148</td>\n",
              "      <td>0.890278</td>\n",
              "      <td>111.0</td>\n",
              "      <td>21</td>\n",
              "      <td>27</td>\n",
              "      <td>88.6</td>\n",
              "      <td>3.47</td>\n",
              "      <td>13495.0</td>\n",
              "    </tr>\n",
              "    <tr>\n",
              "      <th>1</th>\n",
              "      <td>2548</td>\n",
              "      <td>130</td>\n",
              "      <td>0.811148</td>\n",
              "      <td>0.890278</td>\n",
              "      <td>111.0</td>\n",
              "      <td>21</td>\n",
              "      <td>27</td>\n",
              "      <td>88.6</td>\n",
              "      <td>3.47</td>\n",
              "      <td>16500.0</td>\n",
              "    </tr>\n",
              "    <tr>\n",
              "      <th>2</th>\n",
              "      <td>2823</td>\n",
              "      <td>152</td>\n",
              "      <td>0.822681</td>\n",
              "      <td>0.909722</td>\n",
              "      <td>154.0</td>\n",
              "      <td>19</td>\n",
              "      <td>26</td>\n",
              "      <td>94.5</td>\n",
              "      <td>2.68</td>\n",
              "      <td>16500.0</td>\n",
              "    </tr>\n",
              "    <tr>\n",
              "      <th>3</th>\n",
              "      <td>2337</td>\n",
              "      <td>109</td>\n",
              "      <td>0.848630</td>\n",
              "      <td>0.919444</td>\n",
              "      <td>102.0</td>\n",
              "      <td>24</td>\n",
              "      <td>30</td>\n",
              "      <td>99.8</td>\n",
              "      <td>3.19</td>\n",
              "      <td>13950.0</td>\n",
              "    </tr>\n",
              "    <tr>\n",
              "      <th>4</th>\n",
              "      <td>2824</td>\n",
              "      <td>136</td>\n",
              "      <td>0.848630</td>\n",
              "      <td>0.922222</td>\n",
              "      <td>115.0</td>\n",
              "      <td>18</td>\n",
              "      <td>22</td>\n",
              "      <td>99.4</td>\n",
              "      <td>3.19</td>\n",
              "      <td>17450.0</td>\n",
              "    </tr>\n",
              "    <tr>\n",
              "      <th>...</th>\n",
              "      <td>...</td>\n",
              "      <td>...</td>\n",
              "      <td>...</td>\n",
              "      <td>...</td>\n",
              "      <td>...</td>\n",
              "      <td>...</td>\n",
              "      <td>...</td>\n",
              "      <td>...</td>\n",
              "      <td>...</td>\n",
              "      <td>...</td>\n",
              "    </tr>\n",
              "    <tr>\n",
              "      <th>196</th>\n",
              "      <td>2952</td>\n",
              "      <td>141</td>\n",
              "      <td>0.907256</td>\n",
              "      <td>0.956944</td>\n",
              "      <td>114.0</td>\n",
              "      <td>23</td>\n",
              "      <td>28</td>\n",
              "      <td>109.1</td>\n",
              "      <td>3.78</td>\n",
              "      <td>16845.0</td>\n",
              "    </tr>\n",
              "    <tr>\n",
              "      <th>197</th>\n",
              "      <td>3049</td>\n",
              "      <td>141</td>\n",
              "      <td>0.907256</td>\n",
              "      <td>0.955556</td>\n",
              "      <td>160.0</td>\n",
              "      <td>19</td>\n",
              "      <td>25</td>\n",
              "      <td>109.1</td>\n",
              "      <td>3.78</td>\n",
              "      <td>19045.0</td>\n",
              "    </tr>\n",
              "    <tr>\n",
              "      <th>198</th>\n",
              "      <td>3012</td>\n",
              "      <td>173</td>\n",
              "      <td>0.907256</td>\n",
              "      <td>0.956944</td>\n",
              "      <td>134.0</td>\n",
              "      <td>18</td>\n",
              "      <td>23</td>\n",
              "      <td>109.1</td>\n",
              "      <td>3.58</td>\n",
              "      <td>21485.0</td>\n",
              "    </tr>\n",
              "    <tr>\n",
              "      <th>199</th>\n",
              "      <td>3217</td>\n",
              "      <td>145</td>\n",
              "      <td>0.907256</td>\n",
              "      <td>0.956944</td>\n",
              "      <td>106.0</td>\n",
              "      <td>26</td>\n",
              "      <td>27</td>\n",
              "      <td>109.1</td>\n",
              "      <td>3.01</td>\n",
              "      <td>22470.0</td>\n",
              "    </tr>\n",
              "    <tr>\n",
              "      <th>200</th>\n",
              "      <td>3062</td>\n",
              "      <td>141</td>\n",
              "      <td>0.907256</td>\n",
              "      <td>0.956944</td>\n",
              "      <td>114.0</td>\n",
              "      <td>19</td>\n",
              "      <td>25</td>\n",
              "      <td>109.1</td>\n",
              "      <td>3.78</td>\n",
              "      <td>22625.0</td>\n",
              "    </tr>\n",
              "  </tbody>\n",
              "</table>\n",
              "<p>201 rows × 10 columns</p>\n",
              "</div>\n",
              "      <button class=\"colab-df-convert\" onclick=\"convertToInteractive('df-594ce5e0-d5b6-4275-bcfe-ca9a66b1f0ba')\"\n",
              "              title=\"Convert this dataframe to an interactive table.\"\n",
              "              style=\"display:none;\">\n",
              "        \n",
              "  <svg xmlns=\"http://www.w3.org/2000/svg\" height=\"24px\"viewBox=\"0 0 24 24\"\n",
              "       width=\"24px\">\n",
              "    <path d=\"M0 0h24v24H0V0z\" fill=\"none\"/>\n",
              "    <path d=\"M18.56 5.44l.94 2.06.94-2.06 2.06-.94-2.06-.94-.94-2.06-.94 2.06-2.06.94zm-11 1L8.5 8.5l.94-2.06 2.06-.94-2.06-.94L8.5 2.5l-.94 2.06-2.06.94zm10 10l.94 2.06.94-2.06 2.06-.94-2.06-.94-.94-2.06-.94 2.06-2.06.94z\"/><path d=\"M17.41 7.96l-1.37-1.37c-.4-.4-.92-.59-1.43-.59-.52 0-1.04.2-1.43.59L10.3 9.45l-7.72 7.72c-.78.78-.78 2.05 0 2.83L4 21.41c.39.39.9.59 1.41.59.51 0 1.02-.2 1.41-.59l7.78-7.78 2.81-2.81c.8-.78.8-2.07 0-2.86zM5.41 20L4 18.59l7.72-7.72 1.47 1.35L5.41 20z\"/>\n",
              "  </svg>\n",
              "      </button>\n",
              "      \n",
              "  <style>\n",
              "    .colab-df-container {\n",
              "      display:flex;\n",
              "      flex-wrap:wrap;\n",
              "      gap: 12px;\n",
              "    }\n",
              "\n",
              "    .colab-df-convert {\n",
              "      background-color: #E8F0FE;\n",
              "      border: none;\n",
              "      border-radius: 50%;\n",
              "      cursor: pointer;\n",
              "      display: none;\n",
              "      fill: #1967D2;\n",
              "      height: 32px;\n",
              "      padding: 0 0 0 0;\n",
              "      width: 32px;\n",
              "    }\n",
              "\n",
              "    .colab-df-convert:hover {\n",
              "      background-color: #E2EBFA;\n",
              "      box-shadow: 0px 1px 2px rgba(60, 64, 67, 0.3), 0px 1px 3px 1px rgba(60, 64, 67, 0.15);\n",
              "      fill: #174EA6;\n",
              "    }\n",
              "\n",
              "    [theme=dark] .colab-df-convert {\n",
              "      background-color: #3B4455;\n",
              "      fill: #D2E3FC;\n",
              "    }\n",
              "\n",
              "    [theme=dark] .colab-df-convert:hover {\n",
              "      background-color: #434B5C;\n",
              "      box-shadow: 0px 1px 3px 1px rgba(0, 0, 0, 0.15);\n",
              "      filter: drop-shadow(0px 1px 2px rgba(0, 0, 0, 0.3));\n",
              "      fill: #FFFFFF;\n",
              "    }\n",
              "  </style>\n",
              "\n",
              "      <script>\n",
              "        const buttonEl =\n",
              "          document.querySelector('#df-594ce5e0-d5b6-4275-bcfe-ca9a66b1f0ba button.colab-df-convert');\n",
              "        buttonEl.style.display =\n",
              "          google.colab.kernel.accessAllowed ? 'block' : 'none';\n",
              "\n",
              "        async function convertToInteractive(key) {\n",
              "          const element = document.querySelector('#df-594ce5e0-d5b6-4275-bcfe-ca9a66b1f0ba');\n",
              "          const dataTable =\n",
              "            await google.colab.kernel.invokeFunction('convertToInteractive',\n",
              "                                                     [key], {});\n",
              "          if (!dataTable) return;\n",
              "\n",
              "          const docLinkHtml = 'Like what you see? Visit the ' +\n",
              "            '<a target=\"_blank\" href=https://colab.research.google.com/notebooks/data_table.ipynb>data table notebook</a>'\n",
              "            + ' to learn more about interactive tables.';\n",
              "          element.innerHTML = '';\n",
              "          dataTable['output_type'] = 'display_data';\n",
              "          await google.colab.output.renderOutput(dataTable, element);\n",
              "          const docLink = document.createElement('div');\n",
              "          docLink.innerHTML = docLinkHtml;\n",
              "          element.appendChild(docLink);\n",
              "        }\n",
              "      </script>\n",
              "    </div>\n",
              "  </div>\n",
              "  "
            ]
          },
          "metadata": {},
          "execution_count": 79
        }
      ]
    },
    {
      "cell_type": "code",
      "source": [
        "df.shape"
      ],
      "metadata": {
        "colab": {
          "base_uri": "https://localhost:8080/"
        },
        "id": "f_jOQIFguhf4",
        "outputId": "e123697e-fbd4-4e66-b118-cc9de11447e2"
      },
      "execution_count": 80,
      "outputs": [
        {
          "output_type": "execute_result",
          "data": {
            "text/plain": [
              "(201, 10)"
            ]
          },
          "metadata": {},
          "execution_count": 80
        }
      ]
    },
    {
      "cell_type": "code",
      "source": [
        "df.sample(10)"
      ],
      "metadata": {
        "colab": {
          "base_uri": "https://localhost:8080/",
          "height": 363
        },
        "id": "JqH1D769uozc",
        "outputId": "4d0c8c2d-f580-4092-bfa6-73ea4fab9792"
      },
      "execution_count": 81,
      "outputs": [
        {
          "output_type": "execute_result",
          "data": {
            "text/plain": [
              "     curb-weight  engine-size    length     width  horsepower  city-mpg  \\\n",
              "97          2302          120  0.833253  0.905556        97.0        27   \n",
              "20          1876           90  0.755887  0.886111        68.0        37   \n",
              "75          2004           92  0.755887  0.894444        68.0        31   \n",
              "112         3075          120  0.897165  0.950000        97.0        19   \n",
              "139         2340          108  0.826526  0.908333        94.0        26   \n",
              "193         3042          141  0.907256  0.933333       114.0        24   \n",
              "170         2480          110  0.843825  0.923611        73.0        30   \n",
              "9           2395          108  0.849592  0.900000       101.0        23   \n",
              "123         2756          194  0.811629  0.902778       207.0        17   \n",
              "29          1713           92  0.694858  0.887500        58.0        49   \n",
              "\n",
              "     highway-mpg  wheel-base  bore    price  \n",
              "97            34        97.2  3.33   9549.0  \n",
              "20            41        93.7  2.97   5572.0  \n",
              "75            38        93.7  2.97   6669.0  \n",
              "112           24       107.9  3.46  16630.0  \n",
              "139           32        97.2  3.62   9960.0  \n",
              "193           28       104.3  3.78  16515.0  \n",
              "170           33       102.4  3.27  10698.0  \n",
              "9             29       101.2  3.50  16430.0  \n",
              "123           25        89.5  3.74  32528.0  \n",
              "29            54        86.6  2.91   6479.0  "
            ],
            "text/html": [
              "\n",
              "  <div id=\"df-4a9b5f83-d665-4f1f-b92d-c9b9a5f40ee5\">\n",
              "    <div class=\"colab-df-container\">\n",
              "      <div>\n",
              "<style scoped>\n",
              "    .dataframe tbody tr th:only-of-type {\n",
              "        vertical-align: middle;\n",
              "    }\n",
              "\n",
              "    .dataframe tbody tr th {\n",
              "        vertical-align: top;\n",
              "    }\n",
              "\n",
              "    .dataframe thead th {\n",
              "        text-align: right;\n",
              "    }\n",
              "</style>\n",
              "<table border=\"1\" class=\"dataframe\">\n",
              "  <thead>\n",
              "    <tr style=\"text-align: right;\">\n",
              "      <th></th>\n",
              "      <th>curb-weight</th>\n",
              "      <th>engine-size</th>\n",
              "      <th>length</th>\n",
              "      <th>width</th>\n",
              "      <th>horsepower</th>\n",
              "      <th>city-mpg</th>\n",
              "      <th>highway-mpg</th>\n",
              "      <th>wheel-base</th>\n",
              "      <th>bore</th>\n",
              "      <th>price</th>\n",
              "    </tr>\n",
              "  </thead>\n",
              "  <tbody>\n",
              "    <tr>\n",
              "      <th>97</th>\n",
              "      <td>2302</td>\n",
              "      <td>120</td>\n",
              "      <td>0.833253</td>\n",
              "      <td>0.905556</td>\n",
              "      <td>97.0</td>\n",
              "      <td>27</td>\n",
              "      <td>34</td>\n",
              "      <td>97.2</td>\n",
              "      <td>3.33</td>\n",
              "      <td>9549.0</td>\n",
              "    </tr>\n",
              "    <tr>\n",
              "      <th>20</th>\n",
              "      <td>1876</td>\n",
              "      <td>90</td>\n",
              "      <td>0.755887</td>\n",
              "      <td>0.886111</td>\n",
              "      <td>68.0</td>\n",
              "      <td>37</td>\n",
              "      <td>41</td>\n",
              "      <td>93.7</td>\n",
              "      <td>2.97</td>\n",
              "      <td>5572.0</td>\n",
              "    </tr>\n",
              "    <tr>\n",
              "      <th>75</th>\n",
              "      <td>2004</td>\n",
              "      <td>92</td>\n",
              "      <td>0.755887</td>\n",
              "      <td>0.894444</td>\n",
              "      <td>68.0</td>\n",
              "      <td>31</td>\n",
              "      <td>38</td>\n",
              "      <td>93.7</td>\n",
              "      <td>2.97</td>\n",
              "      <td>6669.0</td>\n",
              "    </tr>\n",
              "    <tr>\n",
              "      <th>112</th>\n",
              "      <td>3075</td>\n",
              "      <td>120</td>\n",
              "      <td>0.897165</td>\n",
              "      <td>0.950000</td>\n",
              "      <td>97.0</td>\n",
              "      <td>19</td>\n",
              "      <td>24</td>\n",
              "      <td>107.9</td>\n",
              "      <td>3.46</td>\n",
              "      <td>16630.0</td>\n",
              "    </tr>\n",
              "    <tr>\n",
              "      <th>139</th>\n",
              "      <td>2340</td>\n",
              "      <td>108</td>\n",
              "      <td>0.826526</td>\n",
              "      <td>0.908333</td>\n",
              "      <td>94.0</td>\n",
              "      <td>26</td>\n",
              "      <td>32</td>\n",
              "      <td>97.2</td>\n",
              "      <td>3.62</td>\n",
              "      <td>9960.0</td>\n",
              "    </tr>\n",
              "    <tr>\n",
              "      <th>193</th>\n",
              "      <td>3042</td>\n",
              "      <td>141</td>\n",
              "      <td>0.907256</td>\n",
              "      <td>0.933333</td>\n",
              "      <td>114.0</td>\n",
              "      <td>24</td>\n",
              "      <td>28</td>\n",
              "      <td>104.3</td>\n",
              "      <td>3.78</td>\n",
              "      <td>16515.0</td>\n",
              "    </tr>\n",
              "    <tr>\n",
              "      <th>170</th>\n",
              "      <td>2480</td>\n",
              "      <td>110</td>\n",
              "      <td>0.843825</td>\n",
              "      <td>0.923611</td>\n",
              "      <td>73.0</td>\n",
              "      <td>30</td>\n",
              "      <td>33</td>\n",
              "      <td>102.4</td>\n",
              "      <td>3.27</td>\n",
              "      <td>10698.0</td>\n",
              "    </tr>\n",
              "    <tr>\n",
              "      <th>9</th>\n",
              "      <td>2395</td>\n",
              "      <td>108</td>\n",
              "      <td>0.849592</td>\n",
              "      <td>0.900000</td>\n",
              "      <td>101.0</td>\n",
              "      <td>23</td>\n",
              "      <td>29</td>\n",
              "      <td>101.2</td>\n",
              "      <td>3.50</td>\n",
              "      <td>16430.0</td>\n",
              "    </tr>\n",
              "    <tr>\n",
              "      <th>123</th>\n",
              "      <td>2756</td>\n",
              "      <td>194</td>\n",
              "      <td>0.811629</td>\n",
              "      <td>0.902778</td>\n",
              "      <td>207.0</td>\n",
              "      <td>17</td>\n",
              "      <td>25</td>\n",
              "      <td>89.5</td>\n",
              "      <td>3.74</td>\n",
              "      <td>32528.0</td>\n",
              "    </tr>\n",
              "    <tr>\n",
              "      <th>29</th>\n",
              "      <td>1713</td>\n",
              "      <td>92</td>\n",
              "      <td>0.694858</td>\n",
              "      <td>0.887500</td>\n",
              "      <td>58.0</td>\n",
              "      <td>49</td>\n",
              "      <td>54</td>\n",
              "      <td>86.6</td>\n",
              "      <td>2.91</td>\n",
              "      <td>6479.0</td>\n",
              "    </tr>\n",
              "  </tbody>\n",
              "</table>\n",
              "</div>\n",
              "      <button class=\"colab-df-convert\" onclick=\"convertToInteractive('df-4a9b5f83-d665-4f1f-b92d-c9b9a5f40ee5')\"\n",
              "              title=\"Convert this dataframe to an interactive table.\"\n",
              "              style=\"display:none;\">\n",
              "        \n",
              "  <svg xmlns=\"http://www.w3.org/2000/svg\" height=\"24px\"viewBox=\"0 0 24 24\"\n",
              "       width=\"24px\">\n",
              "    <path d=\"M0 0h24v24H0V0z\" fill=\"none\"/>\n",
              "    <path d=\"M18.56 5.44l.94 2.06.94-2.06 2.06-.94-2.06-.94-.94-2.06-.94 2.06-2.06.94zm-11 1L8.5 8.5l.94-2.06 2.06-.94-2.06-.94L8.5 2.5l-.94 2.06-2.06.94zm10 10l.94 2.06.94-2.06 2.06-.94-2.06-.94-.94-2.06-.94 2.06-2.06.94z\"/><path d=\"M17.41 7.96l-1.37-1.37c-.4-.4-.92-.59-1.43-.59-.52 0-1.04.2-1.43.59L10.3 9.45l-7.72 7.72c-.78.78-.78 2.05 0 2.83L4 21.41c.39.39.9.59 1.41.59.51 0 1.02-.2 1.41-.59l7.78-7.78 2.81-2.81c.8-.78.8-2.07 0-2.86zM5.41 20L4 18.59l7.72-7.72 1.47 1.35L5.41 20z\"/>\n",
              "  </svg>\n",
              "      </button>\n",
              "      \n",
              "  <style>\n",
              "    .colab-df-container {\n",
              "      display:flex;\n",
              "      flex-wrap:wrap;\n",
              "      gap: 12px;\n",
              "    }\n",
              "\n",
              "    .colab-df-convert {\n",
              "      background-color: #E8F0FE;\n",
              "      border: none;\n",
              "      border-radius: 50%;\n",
              "      cursor: pointer;\n",
              "      display: none;\n",
              "      fill: #1967D2;\n",
              "      height: 32px;\n",
              "      padding: 0 0 0 0;\n",
              "      width: 32px;\n",
              "    }\n",
              "\n",
              "    .colab-df-convert:hover {\n",
              "      background-color: #E2EBFA;\n",
              "      box-shadow: 0px 1px 2px rgba(60, 64, 67, 0.3), 0px 1px 3px 1px rgba(60, 64, 67, 0.15);\n",
              "      fill: #174EA6;\n",
              "    }\n",
              "\n",
              "    [theme=dark] .colab-df-convert {\n",
              "      background-color: #3B4455;\n",
              "      fill: #D2E3FC;\n",
              "    }\n",
              "\n",
              "    [theme=dark] .colab-df-convert:hover {\n",
              "      background-color: #434B5C;\n",
              "      box-shadow: 0px 1px 3px 1px rgba(0, 0, 0, 0.15);\n",
              "      filter: drop-shadow(0px 1px 2px rgba(0, 0, 0, 0.3));\n",
              "      fill: #FFFFFF;\n",
              "    }\n",
              "  </style>\n",
              "\n",
              "      <script>\n",
              "        const buttonEl =\n",
              "          document.querySelector('#df-4a9b5f83-d665-4f1f-b92d-c9b9a5f40ee5 button.colab-df-convert');\n",
              "        buttonEl.style.display =\n",
              "          google.colab.kernel.accessAllowed ? 'block' : 'none';\n",
              "\n",
              "        async function convertToInteractive(key) {\n",
              "          const element = document.querySelector('#df-4a9b5f83-d665-4f1f-b92d-c9b9a5f40ee5');\n",
              "          const dataTable =\n",
              "            await google.colab.kernel.invokeFunction('convertToInteractive',\n",
              "                                                     [key], {});\n",
              "          if (!dataTable) return;\n",
              "\n",
              "          const docLinkHtml = 'Like what you see? Visit the ' +\n",
              "            '<a target=\"_blank\" href=https://colab.research.google.com/notebooks/data_table.ipynb>data table notebook</a>'\n",
              "            + ' to learn more about interactive tables.';\n",
              "          element.innerHTML = '';\n",
              "          dataTable['output_type'] = 'display_data';\n",
              "          await google.colab.output.renderOutput(dataTable, element);\n",
              "          const docLink = document.createElement('div');\n",
              "          docLink.innerHTML = docLinkHtml;\n",
              "          element.appendChild(docLink);\n",
              "        }\n",
              "      </script>\n",
              "    </div>\n",
              "  </div>\n",
              "  "
            ]
          },
          "metadata": {},
          "execution_count": 81
        }
      ]
    },
    {
      "cell_type": "markdown",
      "source": [
        "#Câu 2. Kiểm tra kiểu dữ liệu của các feature ('curb-weight', 'engine-size', 'length' , 'width', 'horsepower', 'city-mpg', 'highway-mpg', 'wheel-base', 'bore') trong dataset có bị khuyết giá trị nào không?"
      ],
      "metadata": {
        "id": "f9CiwSVevKV-"
      }
    },
    {
      "cell_type": "code",
      "source": [
        "df.info()"
      ],
      "metadata": {
        "colab": {
          "base_uri": "https://localhost:8080/"
        },
        "id": "-fVR0vD4uswv",
        "outputId": "2b635d52-ab1a-4e02-e8ef-834607cfef1c"
      },
      "execution_count": 82,
      "outputs": [
        {
          "output_type": "stream",
          "name": "stdout",
          "text": [
            "<class 'pandas.core.frame.DataFrame'>\n",
            "RangeIndex: 201 entries, 0 to 200\n",
            "Data columns (total 10 columns):\n",
            " #   Column       Non-Null Count  Dtype  \n",
            "---  ------       --------------  -----  \n",
            " 0   curb-weight  201 non-null    int64  \n",
            " 1   engine-size  201 non-null    int64  \n",
            " 2   length       201 non-null    float64\n",
            " 3   width        201 non-null    float64\n",
            " 4   horsepower   201 non-null    float64\n",
            " 5   city-mpg     201 non-null    int64  \n",
            " 6   highway-mpg  201 non-null    int64  \n",
            " 7   wheel-base   201 non-null    float64\n",
            " 8   bore         201 non-null    float64\n",
            " 9   price        201 non-null    float64\n",
            "dtypes: float64(6), int64(4)\n",
            "memory usage: 15.8 KB\n"
          ]
        }
      ]
    },
    {
      "cell_type": "code",
      "source": [
        "df.isnull().sum()"
      ],
      "metadata": {
        "colab": {
          "base_uri": "https://localhost:8080/"
        },
        "id": "8gmsOEQOvvGY",
        "outputId": "10ea5a9d-5b0d-40b5-d000-fc9544f823c7"
      },
      "execution_count": 83,
      "outputs": [
        {
          "output_type": "execute_result",
          "data": {
            "text/plain": [
              "curb-weight    0\n",
              "engine-size    0\n",
              "length         0\n",
              "width          0\n",
              "horsepower     0\n",
              "city-mpg       0\n",
              "highway-mpg    0\n",
              "wheel-base     0\n",
              "bore           0\n",
              "price          0\n",
              "dtype: int64"
            ]
          },
          "metadata": {},
          "execution_count": 83
        }
      ]
    },
    {
      "cell_type": "markdown",
      "source": [
        "# Câu 3. Phát triển mô hình Polynomial Regression bậc 3 để dự đoán giá xe từ biến 'highway-mpg' (tên mô hình poly)."
      ],
      "metadata": {
        "id": "k1If5Ue7vy0M"
      }
    },
    {
      "cell_type": "code",
      "source": [
        "from sklearn.preprocessing import PolynomialFeatures\n",
        "from sklearn.linear_model import LinearRegression"
      ],
      "metadata": {
        "id": "UcN2vmp-vxP0"
      },
      "execution_count": 84,
      "outputs": []
    },
    {
      "cell_type": "code",
      "source": [
        "x =  df[['highway-mpg']]\n",
        "y = df['price']"
      ],
      "metadata": {
        "id": "ScTFCGltv4t8"
      },
      "execution_count": 85,
      "outputs": []
    },
    {
      "cell_type": "code",
      "source": [
        "poly_reg = PolynomialFeatures(degree=3, include_bias= False)\n",
        "X_poly = poly_reg.fit_transform(x)\n",
        "lin_reg = LinearRegression()\n",
        "lin_reg.fit(X_poly,y)"
      ],
      "metadata": {
        "colab": {
          "base_uri": "https://localhost:8080/"
        },
        "id": "GLRDqK4hv5-4",
        "outputId": "555e67f9-ee6e-4d80-94ba-853f7265cc35"
      },
      "execution_count": 86,
      "outputs": [
        {
          "output_type": "execute_result",
          "data": {
            "text/plain": [
              "LinearRegression()"
            ]
          },
          "metadata": {},
          "execution_count": 86
        }
      ]
    },
    {
      "cell_type": "code",
      "source": [
        "y_pred = lin_reg.predict(X_poly)"
      ],
      "metadata": {
        "id": "PO1RmbYUv9DU"
      },
      "execution_count": 87,
      "outputs": []
    },
    {
      "cell_type": "markdown",
      "source": [
        "#Câu 4. Tính MSE và R^2 để đánh giá tập mẫu của mô hình poly bằng phương pháp thủ công. Có thể phát họa distribution plot để đánh giá mô hình được không?"
      ],
      "metadata": {
        "id": "ufdGmOaewAw4"
      }
    },
    {
      "cell_type": "markdown",
      "source": [
        "Đánh giá bằng phương pháp thủ công"
      ],
      "metadata": {
        "id": "i2hZqnyMxOk7"
      }
    },
    {
      "cell_type": "code",
      "source": [
        "def rmse(predictions, targets):\n",
        "    return np.sqrt(((predictions - targets) ** 2).mean())"
      ],
      "metadata": {
        "id": "W6JJUQhlwAMW"
      },
      "execution_count": 88,
      "outputs": []
    },
    {
      "cell_type": "code",
      "source": [
        "def r2(predictions,targets):\n",
        "    corr_matrix = np.corrcoef( targets,predictions)\n",
        "    corr = corr_matrix[0,1]\n",
        "    return corr**2"
      ],
      "metadata": {
        "id": "DIlSZ_NzwSJM"
      },
      "execution_count": 89,
      "outputs": []
    },
    {
      "cell_type": "code",
      "source": [
        "np.sqrt(rmse(y_pred,y))"
      ],
      "metadata": {
        "colab": {
          "base_uri": "https://localhost:8080/"
        },
        "id": "i2zwQFbjw5yR",
        "outputId": "954e5983-a4bf-43d2-f6ad-4358bb19fc52"
      },
      "execution_count": 90,
      "outputs": [
        {
          "output_type": "execute_result",
          "data": {
            "text/plain": [
              "67.26690582112292"
            ]
          },
          "metadata": {},
          "execution_count": 90
        }
      ]
    },
    {
      "cell_type": "code",
      "source": [
        "r2(y_pred,y)*100"
      ],
      "metadata": {
        "colab": {
          "base_uri": "https://localhost:8080/"
        },
        "id": "sqE0MjXrxDxD",
        "outputId": "de3e5f18-eb26-4f3e-faff-1bf1abfaa1fe"
      },
      "execution_count": 91,
      "outputs": [
        {
          "output_type": "execute_result",
          "data": {
            "text/plain": [
              "67.41946663906533"
            ]
          },
          "metadata": {},
          "execution_count": 91
        }
      ]
    },
    {
      "cell_type": "markdown",
      "source": [
        "Đánh giá bằng phương pháp gọi hàm"
      ],
      "metadata": {
        "id": "ww8vg0WHxR5N"
      }
    },
    {
      "cell_type": "code",
      "source": [
        "from sklearn.metrics import mean_squared_error\n",
        "mse = mean_squared_error(y,y_pred,squared=False)"
      ],
      "metadata": {
        "id": "Ly23L-5mxLLj"
      },
      "execution_count": 92,
      "outputs": []
    },
    {
      "cell_type": "code",
      "source": [
        "np.sqrt(mse)"
      ],
      "metadata": {
        "colab": {
          "base_uri": "https://localhost:8080/"
        },
        "id": "0kGCopwsxYrs",
        "outputId": "051615cd-4575-481d-9e1e-fcf2ff58417c"
      },
      "execution_count": 93,
      "outputs": [
        {
          "output_type": "execute_result",
          "data": {
            "text/plain": [
              "67.26690582112292"
            ]
          },
          "metadata": {},
          "execution_count": 93
        }
      ]
    },
    {
      "cell_type": "code",
      "source": [
        "r_squared = lin_reg.score(X_poly, y)"
      ],
      "metadata": {
        "id": "xc2TcoxcxZ0u"
      },
      "execution_count": 94,
      "outputs": []
    },
    {
      "cell_type": "code",
      "source": [
        "r_squared * 100"
      ],
      "metadata": {
        "colab": {
          "base_uri": "https://localhost:8080/"
        },
        "id": "51Du_NWxxbIE",
        "outputId": "d873aa5c-ebbd-46a2-a31c-cd334b6e8e2e"
      },
      "execution_count": 95,
      "outputs": [
        {
          "output_type": "execute_result",
          "data": {
            "text/plain": [
              "67.4194666390652"
            ]
          },
          "metadata": {},
          "execution_count": 95
        }
      ]
    },
    {
      "cell_type": "markdown",
      "source": [
        "Distribution plot"
      ],
      "metadata": {
        "id": "cWWsIx-zxuY6"
      }
    },
    {
      "cell_type": "code",
      "source": [
        "ax1 = sns.distplot(df['price'],hist = False, label = 'Actual Value')\n",
        "sns.distplot(y_pred,hist = False, label = 'Fitted Values',ax = ax1)"
      ],
      "metadata": {
        "colab": {
          "base_uri": "https://localhost:8080/",
          "height": 397
        },
        "id": "OsZBkQhdxcWx",
        "outputId": "70b6029e-36d3-4051-c2e8-52e31cc95004"
      },
      "execution_count": 96,
      "outputs": [
        {
          "output_type": "stream",
          "name": "stderr",
          "text": [
            "/usr/local/lib/python3.7/dist-packages/seaborn/distributions.py:2619: FutureWarning: `distplot` is a deprecated function and will be removed in a future version. Please adapt your code to use either `displot` (a figure-level function with similar flexibility) or `kdeplot` (an axes-level function for kernel density plots).\n",
            "  warnings.warn(msg, FutureWarning)\n",
            "/usr/local/lib/python3.7/dist-packages/seaborn/distributions.py:2619: FutureWarning: `distplot` is a deprecated function and will be removed in a future version. Please adapt your code to use either `displot` (a figure-level function with similar flexibility) or `kdeplot` (an axes-level function for kernel density plots).\n",
            "  warnings.warn(msg, FutureWarning)\n"
          ]
        },
        {
          "output_type": "execute_result",
          "data": {
            "text/plain": [
              "<matplotlib.axes._subplots.AxesSubplot at 0x7fb34ecab450>"
            ]
          },
          "metadata": {},
          "execution_count": 96
        },
        {
          "output_type": "display_data",
          "data": {
            "text/plain": [
              "<Figure size 432x288 with 1 Axes>"
            ],
            "image/png": "[encoded data removed]"
          },
          "metadata": {
            "needs_background": "light"
          }
        }
      ]
    },
    {
      "cell_type": "markdown",
      "source": [
        "#Câu 5. Phát triển mô hình hồi quy tuyến tính đa biến để dự đoán giá xe từ biến 'horsepower', 'curb-weight', 'engine-size', 'highway-mpg'."
      ],
      "metadata": {
        "id": "-AYMagSQx1K4"
      }
    },
    {
      "cell_type": "code",
      "source": [
        "x =  df[['horsepower', 'curb-weight', 'engine-size', 'highway-mpg']]\n",
        "y = df['price']"
      ],
      "metadata": {
        "id": "RbQDPgzUxqfS"
      },
      "execution_count": 97,
      "outputs": []
    },
    {
      "cell_type": "code",
      "source": [
        "poly_reg = PolynomialFeatures(degree=3, include_bias= False)\n",
        "X_poly = poly_reg.fit_transform(x)\n",
        "lin_reg1 = LinearRegression()\n",
        "lin_reg1.fit(X_poly,y)"
      ],
      "metadata": {
        "colab": {
          "base_uri": "https://localhost:8080/"
        },
        "id": "uUcCxHsvx6K0",
        "outputId": "e31f22ca-6daa-4ed7-d35e-7a3a132dc0b8"
      },
      "execution_count": 98,
      "outputs": [
        {
          "output_type": "execute_result",
          "data": {
            "text/plain": [
              "LinearRegression()"
            ]
          },
          "metadata": {},
          "execution_count": 98
        }
      ]
    },
    {
      "cell_type": "code",
      "source": [
        "y_pred = lin_reg1.predict(X_poly)"
      ],
      "metadata": {
        "id": "HKuGvIOwx-WH"
      },
      "execution_count": 99,
      "outputs": []
    },
    {
      "cell_type": "markdown",
      "source": [
        "#Câu 6. Tính MSE và R^2 để đánh giá tập mẫu của mô hình trên bằng phương pháp thủ công và gọi hàm. Có thể phát họa distribution plot để đánh giá mô hình được không?"
      ],
      "metadata": {
        "id": "mXx3PSXMyDwX"
      }
    },
    {
      "cell_type": "markdown",
      "source": [
        "Thủ công\n"
      ],
      "metadata": {
        "id": "r_wqKF5CyJo4"
      }
    },
    {
      "cell_type": "code",
      "source": [
        "np.sqrt(rmse(y_pred,y))"
      ],
      "metadata": {
        "colab": {
          "base_uri": "https://localhost:8080/"
        },
        "id": "n-r9DYTfyCef",
        "outputId": "3299167d-2535-46aa-bc0a-6e937f6c4d62"
      },
      "execution_count": 100,
      "outputs": [
        {
          "output_type": "execute_result",
          "data": {
            "text/plain": [
              "50.64412404945732"
            ]
          },
          "metadata": {},
          "execution_count": 100
        }
      ]
    },
    {
      "cell_type": "code",
      "source": [
        "r2(y_pred,y)*100"
      ],
      "metadata": {
        "colab": {
          "base_uri": "https://localhost:8080/"
        },
        "id": "bedvRT1RyL3M",
        "outputId": "0295bf8d-c3c7-4cf4-cb8d-9860632d4496"
      },
      "execution_count": 101,
      "outputs": [
        {
          "output_type": "execute_result",
          "data": {
            "text/plain": [
              "89.53188125760434"
            ]
          },
          "metadata": {},
          "execution_count": 101
        }
      ]
    },
    {
      "cell_type": "markdown",
      "source": [
        "Gọi hàm"
      ],
      "metadata": {
        "id": "Gu1MU16wyNgd"
      }
    },
    {
      "cell_type": "code",
      "source": [
        "mse = mean_squared_error(y,y_pred,squared=False)"
      ],
      "metadata": {
        "id": "Ji_DE06ZyM3d"
      },
      "execution_count": 102,
      "outputs": []
    },
    {
      "cell_type": "code",
      "source": [
        "np.sqrt(mse)"
      ],
      "metadata": {
        "colab": {
          "base_uri": "https://localhost:8080/"
        },
        "id": "CL5ds0B8yQmI",
        "outputId": "033c92ed-5582-44eb-ef6b-528662fe02df"
      },
      "execution_count": 103,
      "outputs": [
        {
          "output_type": "execute_result",
          "data": {
            "text/plain": [
              "50.64412404945732"
            ]
          },
          "metadata": {},
          "execution_count": 103
        }
      ]
    },
    {
      "cell_type": "code",
      "source": [
        "r_squared = lin_reg1.score(X_poly, y)\n",
        "r_squared * 100"
      ],
      "metadata": {
        "colab": {
          "base_uri": "https://localhost:8080/"
        },
        "id": "30hiDVhgyRcp",
        "outputId": "936ce595-9bf2-40d4-d1f0-6026953c8dd2"
      },
      "execution_count": 104,
      "outputs": [
        {
          "output_type": "execute_result",
          "data": {
            "text/plain": [
              "89.53188125760404"
            ]
          },
          "metadata": {},
          "execution_count": 104
        }
      ]
    },
    {
      "cell_type": "code",
      "source": [
        "ax1 = sns.distplot(df['price'],hist = False, label = 'Actual Value')\n",
        "sns.distplot(y_pred,hist = False,  label = 'Fitted Values',ax = ax1)"
      ],
      "metadata": {
        "colab": {
          "base_uri": "https://localhost:8080/",
          "height": 397
        },
        "id": "dBpVgKwTyVHl",
        "outputId": "482d04d8-c19e-419a-bef6-67ccfd866395"
      },
      "execution_count": 105,
      "outputs": [
        {
          "output_type": "stream",
          "name": "stderr",
          "text": [
            "/usr/local/lib/python3.7/dist-packages/seaborn/distributions.py:2619: FutureWarning: `distplot` is a deprecated function and will be removed in a future version. Please adapt your code to use either `displot` (a figure-level function with similar flexibility) or `kdeplot` (an axes-level function for kernel density plots).\n",
            "  warnings.warn(msg, FutureWarning)\n",
            "/usr/local/lib/python3.7/dist-packages/seaborn/distributions.py:2619: FutureWarning: `distplot` is a deprecated function and will be removed in a future version. Please adapt your code to use either `displot` (a figure-level function with similar flexibility) or `kdeplot` (an axes-level function for kernel density plots).\n",
            "  warnings.warn(msg, FutureWarning)\n"
          ]
        },
        {
          "output_type": "execute_result",
          "data": {
            "text/plain": [
              "<matplotlib.axes._subplots.AxesSubplot at 0x7fb34ec89a90>"
            ]
          },
          "metadata": {},
          "execution_count": 105
        },
        {
          "output_type": "display_data",
          "data": {
            "text/plain": [
              "<Figure size 432x288 with 1 Axes>"
            ],
            "image/png": "[encoded data removed]"
          },
          "metadata": {
            "needs_background": "light"
          }
        }
      ]
    },
    {
      "cell_type": "markdown",
      "source": [],
      "metadata": {
        "id": "qijDfgcWy01W"
      }
    },
    {
      "cell_type": "code",
      "source": [
        "x =  df[['horsepower', 'curb-weight', 'engine-size', 'highway-mpg']]\n",
        "y = df['price']"
      ],
      "metadata": {
        "id": "QMVucESEyava"
      },
      "execution_count": 106,
      "outputs": []
    },
    {
      "cell_type": "code",
      "source": [
        "poly_reg = PolynomialFeatures(degree=2, include_bias= False)\n",
        "X_poly = poly_reg.fit_transform(x)\n",
        "lin_reg2 = LinearRegression()\n",
        "lin_reg2.fit(X_poly,y)"
      ],
      "metadata": {
        "colab": {
          "base_uri": "https://localhost:8080/"
        },
        "id": "80ujaBYry1bi",
        "outputId": "c9a312a1-3dff-489a-9390-19dce9d10ba5"
      },
      "execution_count": 107,
      "outputs": [
        {
          "output_type": "execute_result",
          "data": {
            "text/plain": [
              "LinearRegression()"
            ]
          },
          "metadata": {},
          "execution_count": 107
        }
      ]
    },
    {
      "cell_type": "code",
      "source": [
        "y_pred = lin_reg2.predict(X_poly)"
      ],
      "metadata": {
        "id": "d4zH2FNAy4Qe"
      },
      "execution_count": 108,
      "outputs": []
    },
    {
      "cell_type": "markdown",
      "source": [
        "#Câu 8. Tính MSE và R^2 để đánh giá tập mẫu của mô hình trên bằng phương pháp thủ công và gọi hàm. Có thể phát họa distribution plot để đánh giá mô hình được không?"
      ],
      "metadata": {
        "id": "k5uVQUOSzBjR"
      }
    },
    {
      "cell_type": "markdown",
      "source": [
        "Thủ công"
      ],
      "metadata": {
        "id": "CPZslQTPzFlB"
      }
    },
    {
      "cell_type": "code",
      "source": [
        "np.sqrt(rmse(y_pred,y))"
      ],
      "metadata": {
        "colab": {
          "base_uri": "https://localhost:8080/"
        },
        "id": "Ko5PKaGczD7J",
        "outputId": "007277cf-7e85-4c43-c61b-f16d076551f1"
      },
      "execution_count": 109,
      "outputs": [
        {
          "output_type": "execute_result",
          "data": {
            "text/plain": [
              "55.74503741251856"
            ]
          },
          "metadata": {},
          "execution_count": 109
        }
      ]
    },
    {
      "cell_type": "code",
      "source": [
        "r2(y_pred,y)*100"
      ],
      "metadata": {
        "colab": {
          "base_uri": "https://localhost:8080/"
        },
        "id": "WEHQbKwUzHjq",
        "outputId": "8366a890-1549-4fa5-9ab7-4c596dfcde5a"
      },
      "execution_count": 110,
      "outputs": [
        {
          "output_type": "execute_result",
          "data": {
            "text/plain": [
              "84.63341969864737"
            ]
          },
          "metadata": {},
          "execution_count": 110
        }
      ]
    },
    {
      "cell_type": "markdown",
      "source": [
        "Gọi hàm"
      ],
      "metadata": {
        "id": "39cNuwVezKJ4"
      }
    },
    {
      "cell_type": "code",
      "source": [
        "mse = mean_squared_error(y,y_pred,squared=False)"
      ],
      "metadata": {
        "id": "n3iTZJHMzIw1"
      },
      "execution_count": 111,
      "outputs": []
    },
    {
      "cell_type": "code",
      "source": [
        "np.sqrt(mse)"
      ],
      "metadata": {
        "colab": {
          "base_uri": "https://localhost:8080/"
        },
        "id": "P_RBPJQCzMuj",
        "outputId": "192dad14-ad9b-4858-b305-343698d8e8f2"
      },
      "execution_count": 112,
      "outputs": [
        {
          "output_type": "execute_result",
          "data": {
            "text/plain": [
              "55.74503741251856"
            ]
          },
          "metadata": {},
          "execution_count": 112
        }
      ]
    },
    {
      "cell_type": "code",
      "source": [
        "r_squared = lin_reg2.score(X_poly, y)\n",
        "r_squared * 100"
      ],
      "metadata": {
        "colab": {
          "base_uri": "https://localhost:8080/"
        },
        "id": "63SoEEWhzNzj",
        "outputId": "ec0fb5ac-f579-4e8d-d044-1c956ee5be1e"
      },
      "execution_count": 113,
      "outputs": [
        {
          "output_type": "execute_result",
          "data": {
            "text/plain": [
              "84.63341969864729"
            ]
          },
          "metadata": {},
          "execution_count": 113
        }
      ]
    },
    {
      "cell_type": "code",
      "source": [
        "ax1 = sns.distplot(df['price'],hist = False, label = 'Actual Value')\n",
        "sns.distplot(y_pred,hist = False, label = 'Fitted Values',ax = ax1)"
      ],
      "metadata": {
        "colab": {
          "base_uri": "https://localhost:8080/",
          "height": 397
        },
        "id": "4CLkEWuYzPvG",
        "outputId": "7430f5c4-d5c6-4d83-8315-5f4659d96aa7"
      },
      "execution_count": 114,
      "outputs": [
        {
          "output_type": "stream",
          "name": "stderr",
          "text": [
            "/usr/local/lib/python3.7/dist-packages/seaborn/distributions.py:2619: FutureWarning: `distplot` is a deprecated function and will be removed in a future version. Please adapt your code to use either `displot` (a figure-level function with similar flexibility) or `kdeplot` (an axes-level function for kernel density plots).\n",
            "  warnings.warn(msg, FutureWarning)\n",
            "/usr/local/lib/python3.7/dist-packages/seaborn/distributions.py:2619: FutureWarning: `distplot` is a deprecated function and will be removed in a future version. Please adapt your code to use either `displot` (a figure-level function with similar flexibility) or `kdeplot` (an axes-level function for kernel density plots).\n",
            "  warnings.warn(msg, FutureWarning)\n"
          ]
        },
        {
          "output_type": "execute_result",
          "data": {
            "text/plain": [
              "<matplotlib.axes._subplots.AxesSubplot at 0x7fb34eba6b50>"
            ]
          },
          "metadata": {},
          "execution_count": 114
        },
        {
          "output_type": "display_data",
          "data": {
            "text/plain": [
              "<Figure size 432x288 with 1 Axes>"
            ],
            "image/png": "[encoded data removed]"
          },
          "metadata": {
            "needs_background": "light"
          }
        }
      ]
    },
    {
      "cell_type": "markdown",
      "source": [
        "#Câu 9.  Thiết kế một pipeline để phát triển mô hình mô hình Polynomial Regression bậc 2 để dự đoán giá xe từ biến 'horsepower', 'curb-weight', 'engine-size', 'highway-mpg'. Trong pipeline thực hiện các công việc sau: Normalize, Transform => feature, LinearRegression để Fit tìm mô hình. Xuất mô hình vừa  tìm được."
      ],
      "metadata": {
        "id": "tzUNbcw5zmGX"
      }
    },
    {
      "cell_type": "code",
      "source": [
        "from sklearn.pipeline import Pipeline\n",
        "from sklearn.preprocessing import StandardScaler"
      ],
      "metadata": {
        "id": "4al4PNUtzUUR"
      },
      "execution_count": 115,
      "outputs": []
    },
    {
      "cell_type": "code",
      "source": [
        "Input = [('scale', StandardScaler()),\n",
        "         ('polynomial',PolynomialFeatures(include_bias = False,degree = 2)),\n",
        "         ('model',LinearRegression())]"
      ],
      "metadata": {
        "id": "rAKYyf0e14ZQ"
      },
      "execution_count": 116,
      "outputs": []
    },
    {
      "cell_type": "code",
      "source": [
        "pipe = Pipeline(Input)"
      ],
      "metadata": {
        "id": "C6_MmkgX1-km"
      },
      "execution_count": 117,
      "outputs": []
    },
    {
      "cell_type": "code",
      "source": [
        "pipe.fit(x,y)"
      ],
      "metadata": {
        "colab": {
          "base_uri": "https://localhost:8080/"
        },
        "id": "Zh5iYuQhAz_o",
        "outputId": "1f9f31c2-d148-4249-9190-4021d8af1e47"
      },
      "execution_count": 118,
      "outputs": [
        {
          "output_type": "execute_result",
          "data": {
            "text/plain": [
              "Pipeline(steps=[('scale', StandardScaler()),\n",
              "                ('polynomial', PolynomialFeatures(include_bias=False)),\n",
              "                ('model', LinearRegression())])"
            ]
          },
          "metadata": {},
          "execution_count": 118
        }
      ]
    },
    {
      "cell_type": "code",
      "source": [
        "ypipe = pipe.predict(x)"
      ],
      "metadata": {
        "id": "sfNBIbLlA1GF"
      },
      "execution_count": 145,
      "outputs": []
    },
    {
      "cell_type": "code",
      "source": [
        "mse = mean_squared_error(y,ypipe,squared=False)"
      ],
      "metadata": {
        "id": "y1ygpaISA4im"
      },
      "execution_count": 120,
      "outputs": []
    },
    {
      "cell_type": "code",
      "source": [
        "np.sqrt(mse)"
      ],
      "metadata": {
        "colab": {
          "base_uri": "https://localhost:8080/"
        },
        "id": "0URgmXsEA9bV",
        "outputId": "16256368-0d2d-4f48-bd08-ce2340d5c01d"
      },
      "execution_count": 121,
      "outputs": [
        {
          "output_type": "execute_result",
          "data": {
            "text/plain": [
              "55.74503741251856"
            ]
          },
          "metadata": {},
          "execution_count": 121
        }
      ]
    },
    {
      "cell_type": "code",
      "source": [
        "r_squared = pipe.score(x, y)\n",
        "r_squared * 100"
      ],
      "metadata": {
        "colab": {
          "base_uri": "https://localhost:8080/"
        },
        "id": "F9DFlfGZA-SA",
        "outputId": "c12b5d50-0682-4990-d2ec-db5d9ee21b4f"
      },
      "execution_count": 122,
      "outputs": [
        {
          "output_type": "execute_result",
          "data": {
            "text/plain": [
              "84.63341969864729"
            ]
          },
          "metadata": {},
          "execution_count": 122
        }
      ]
    },
    {
      "cell_type": "code",
      "source": [
        "ax1 = sns.distplot(df['price'],hist = False,label = 'Actual Value')\n",
        "sns.distplot(ypipe,hist = False,  label = 'Fitted Values',ax = ax1)"
      ],
      "metadata": {
        "colab": {
          "base_uri": "https://localhost:8080/",
          "height": 397
        },
        "id": "kDuWStd9BB-E",
        "outputId": "bfdf485c-8862-414d-e31e-a44e0cba5ac2"
      },
      "execution_count": 123,
      "outputs": [
        {
          "output_type": "stream",
          "name": "stderr",
          "text": [
            "/usr/local/lib/python3.7/dist-packages/seaborn/distributions.py:2619: FutureWarning: `distplot` is a deprecated function and will be removed in a future version. Please adapt your code to use either `displot` (a figure-level function with similar flexibility) or `kdeplot` (an axes-level function for kernel density plots).\n",
            "  warnings.warn(msg, FutureWarning)\n",
            "/usr/local/lib/python3.7/dist-packages/seaborn/distributions.py:2619: FutureWarning: `distplot` is a deprecated function and will be removed in a future version. Please adapt your code to use either `displot` (a figure-level function with similar flexibility) or `kdeplot` (an axes-level function for kernel density plots).\n",
            "  warnings.warn(msg, FutureWarning)\n"
          ]
        },
        {
          "output_type": "execute_result",
          "data": {
            "text/plain": [
              "<matplotlib.axes._subplots.AxesSubplot at 0x7fb34eb1c510>"
            ]
          },
          "metadata": {},
          "execution_count": 123
        },
        {
          "output_type": "display_data",
          "data": {
            "text/plain": [
              "<Figure size 432x288 with 1 Axes>"
            ],
            "image/png": "[encoded data removed]"
          },
          "metadata": {
            "needs_background": "light"
          }
        }
      ]
    },
    {
      "cell_type": "markdown",
      "source": [
        "#Câu 10. Tìm khoảng giá trị chặn của các mô hình."
      ],
      "metadata": {
        "id": "L_bMLYuaFm-J"
      }
    },
    {
      "cell_type": "code",
      "source": [
        "max(df['price'])"
      ],
      "metadata": {
        "colab": {
          "base_uri": "https://localhost:8080/"
        },
        "id": "3-5Ju5SgHsdO",
        "outputId": "cb33d6a2-3f41-4ae7-8e2e-703dbe836157"
      },
      "execution_count": 124,
      "outputs": [
        {
          "output_type": "execute_result",
          "data": {
            "text/plain": [
              "45400.0"
            ]
          },
          "metadata": {},
          "execution_count": 124
        }
      ]
    },
    {
      "cell_type": "code",
      "source": [
        "min(df['price'])"
      ],
      "metadata": {
        "colab": {
          "base_uri": "https://localhost:8080/"
        },
        "id": "B7hrf7tHHtwl",
        "outputId": "9d807226-afe2-4368-ee17-163e6b036546"
      },
      "execution_count": 125,
      "outputs": [
        {
          "output_type": "execute_result",
          "data": {
            "text/plain": [
              "5118.0"
            ]
          },
          "metadata": {},
          "execution_count": 125
        }
      ]
    },
    {
      "cell_type": "markdown",
      "source": [
        "NX: Có thể xem giá trị max, min của bộ dữ liệu làm giá trị chắn của mô hình"
      ],
      "metadata": {
        "id": "ZxEkpPg-Ft5S"
      }
    },
    {
      "cell_type": "markdown",
      "source": [
        "#Câu 11. Xếp hạng các mô hình đã phát triển các câu trên."
      ],
      "metadata": {
        "id": "riqVBZDLGb8x"
      }
    },
    {
      "cell_type": "markdown",
      "source": [
        "Nhận xét: Mô hình hồi quy tuyến tính đa biến để dự đoán giá xe từ biến 'horsepower', 'curb-weight' 'engine-size', 'highway-mpg' sử dụng mô hình hình Polynomial Regression bậc 3 (câu 5) có giá trị tốt hơn các câu còn lại độ lỗi thấp và độ đo r^2 cao hơn \n",
        "\n",
        "==> Vậy các biến quan trọng là 'horsepower', 'curb-weight' 'engine-size', 'highway-mpg'"
      ],
      "metadata": {
        "id": "a3QGLkfKGih7"
      }
    },
    {
      "cell_type": "markdown",
      "source": [
        "# Câu 12. *Anh/chị có thể phát triển một mô hình nào khác tốt hơn các mô hình đã phát triển bên trên. Nếu có thì chứng minh mô hình của bạn là tốt hơn?"
      ],
      "metadata": {
        "id": "byqvQWnmHVAz"
      }
    },
    {
      "cell_type": "code",
      "source": [
        "from sklearn.linear_model import LogisticRegression"
      ],
      "metadata": {
        "id": "Rl31GhmgGfFT"
      },
      "execution_count": 126,
      "outputs": []
    },
    {
      "cell_type": "code",
      "source": [
        "def Function( num,model,*args):\n",
        "  Input = [('scale', StandardScaler()),\n",
        "         ('polynomial',PolynomialFeatures(include_bias = False,degree = num)),\n",
        "         ('model',model)]\n",
        "  pipe = Pipeline(Input)\n",
        "  d = []\n",
        "  for value in args:\n",
        "        d.append(value)\n",
        "  z = df[d]\n",
        "  pipe.fit(z,df['price'])\n",
        "  Y_pred = pipe.predict(z)\n",
        "  return Y_pred"
      ],
      "metadata": {
        "id": "RdXAl1cbHYbD"
      },
      "execution_count": 127,
      "outputs": []
    },
    {
      "cell_type": "markdown",
      "source": [
        "Hai biến\n"
      ],
      "metadata": {
        "id": "cuoQL_1UIk5H"
      }
    },
    {
      "cell_type": "code",
      "source": [
        "y_pred = Function(2,LogisticRegression(),'curb-weight','engine-size' )"
      ],
      "metadata": {
        "colab": {
          "base_uri": "https://localhost:8080/"
        },
        "id": "mOXgRcNaIejE",
        "outputId": "c2ebf4c7-a1d3-4bc2-e602-313b7cb90d58"
      },
      "execution_count": 128,
      "outputs": [
        {
          "output_type": "stream",
          "name": "stderr",
          "text": [
            "/usr/local/lib/python3.7/dist-packages/sklearn/linear_model/_logistic.py:818: ConvergenceWarning: lbfgs failed to converge (status=1):\n",
            "STOP: TOTAL NO. of ITERATIONS REACHED LIMIT.\n",
            "\n",
            "Increase the number of iterations (max_iter) or scale the data as shown in:\n",
            "    https://scikit-learn.org/stable/modules/preprocessing.html\n",
            "Please also refer to the documentation for alternative solver options:\n",
            "    https://scikit-learn.org/stable/modules/linear_model.html#logistic-regression\n",
            "  extra_warning_msg=_LOGISTIC_SOLVER_CONVERGENCE_MSG,\n"
          ]
        }
      ]
    },
    {
      "cell_type": "code",
      "source": [
        "mse = mean_squared_error(y,y_pred,squared=False)"
      ],
      "metadata": {
        "id": "_RO348WyImKX"
      },
      "execution_count": 129,
      "outputs": []
    },
    {
      "cell_type": "code",
      "source": [
        "np.sqrt(mse)"
      ],
      "metadata": {
        "colab": {
          "base_uri": "https://localhost:8080/"
        },
        "id": "MVRVPfKHInws",
        "outputId": "afa088fa-18e8-4254-d7f6-6e71b3da522a"
      },
      "execution_count": 130,
      "outputs": [
        {
          "output_type": "execute_result",
          "data": {
            "text/plain": [
              "59.84852088836113"
            ]
          },
          "metadata": {},
          "execution_count": 130
        }
      ]
    },
    {
      "cell_type": "code",
      "source": [
        "ax1 = sns.distplot(df['price'],hist = False,label = 'Actual Value')\n",
        "sns.distplot(y_pred,hist = False,  label = 'Fitted Values',ax = ax1)"
      ],
      "metadata": {
        "colab": {
          "base_uri": "https://localhost:8080/",
          "height": 397
        },
        "id": "Ak6BBPPSIowv",
        "outputId": "169ea2e3-2992-4ab0-9b3e-2bbeca82fbc0"
      },
      "execution_count": 131,
      "outputs": [
        {
          "output_type": "stream",
          "name": "stderr",
          "text": [
            "/usr/local/lib/python3.7/dist-packages/seaborn/distributions.py:2619: FutureWarning: `distplot` is a deprecated function and will be removed in a future version. Please adapt your code to use either `displot` (a figure-level function with similar flexibility) or `kdeplot` (an axes-level function for kernel density plots).\n",
            "  warnings.warn(msg, FutureWarning)\n",
            "/usr/local/lib/python3.7/dist-packages/seaborn/distributions.py:2619: FutureWarning: `distplot` is a deprecated function and will be removed in a future version. Please adapt your code to use either `displot` (a figure-level function with similar flexibility) or `kdeplot` (an axes-level function for kernel density plots).\n",
            "  warnings.warn(msg, FutureWarning)\n"
          ]
        },
        {
          "output_type": "execute_result",
          "data": {
            "text/plain": [
              "<matplotlib.axes._subplots.AxesSubplot at 0x7fb34eaf92d0>"
            ]
          },
          "metadata": {},
          "execution_count": 131
        },
        {
          "output_type": "display_data",
          "data": {
            "text/plain": [
              "<Figure size 432x288 with 1 Axes>"
            ],
            "image/png": "[encoded data removed]"
          },
          "metadata": {
            "needs_background": "light"
          }
        }
      ]
    },
    {
      "cell_type": "markdown",
      "source": [
        "Mười biến"
      ],
      "metadata": {
        "id": "l-1vqGhBJNHM"
      }
    },
    {
      "cell_type": "code",
      "source": [
        "y_pred = Function(3,LogisticRegression(),'curb-weight','engine-size', 'length',\n",
        "               'width', 'horsepower', 'city-mpg', 'highway-mpg', 'wheel-base', 'bore')"
      ],
      "metadata": {
        "colab": {
          "base_uri": "https://localhost:8080/"
        },
        "id": "LOwe1_r-JKok",
        "outputId": "ae2e4c69-db65-4d6c-b6a5-e590a9bfda9c"
      },
      "execution_count": 132,
      "outputs": [
        {
          "output_type": "stream",
          "name": "stderr",
          "text": [
            "/usr/local/lib/python3.7/dist-packages/sklearn/linear_model/_logistic.py:818: ConvergenceWarning: lbfgs failed to converge (status=1):\n",
            "STOP: TOTAL NO. of ITERATIONS REACHED LIMIT.\n",
            "\n",
            "Increase the number of iterations (max_iter) or scale the data as shown in:\n",
            "    https://scikit-learn.org/stable/modules/preprocessing.html\n",
            "Please also refer to the documentation for alternative solver options:\n",
            "    https://scikit-learn.org/stable/modules/linear_model.html#logistic-regression\n",
            "  extra_warning_msg=_LOGISTIC_SOLVER_CONVERGENCE_MSG,\n"
          ]
        }
      ]
    },
    {
      "cell_type": "code",
      "source": [
        "mse = mean_squared_error(y,y_pred,squared=False)"
      ],
      "metadata": {
        "id": "1CzXjSsDJP-e"
      },
      "execution_count": 133,
      "outputs": []
    },
    {
      "cell_type": "code",
      "source": [
        "np.sqrt(mse)"
      ],
      "metadata": {
        "colab": {
          "base_uri": "https://localhost:8080/"
        },
        "id": "MCgdv_kDJSG4",
        "outputId": "fa9a6098-6602-4d3f-d428-adbf9f60b3cf"
      },
      "execution_count": 134,
      "outputs": [
        {
          "output_type": "execute_result",
          "data": {
            "text/plain": [
              "32.88944792985634"
            ]
          },
          "metadata": {},
          "execution_count": 134
        }
      ]
    },
    {
      "cell_type": "code",
      "source": [
        "ax1 = sns.distplot(df['price'],hist = False, label = 'Actual Value')\n",
        "sns.distplot(y_pred,hist = False, label = 'Fitted Values',ax = ax1)"
      ],
      "metadata": {
        "colab": {
          "base_uri": "https://localhost:8080/",
          "height": 397
        },
        "id": "kKa2VKjbJTFo",
        "outputId": "77879afc-4090-49ba-f391-4db769309dca"
      },
      "execution_count": 135,
      "outputs": [
        {
          "output_type": "stream",
          "name": "stderr",
          "text": [
            "/usr/local/lib/python3.7/dist-packages/seaborn/distributions.py:2619: FutureWarning: `distplot` is a deprecated function and will be removed in a future version. Please adapt your code to use either `displot` (a figure-level function with similar flexibility) or `kdeplot` (an axes-level function for kernel density plots).\n",
            "  warnings.warn(msg, FutureWarning)\n",
            "/usr/local/lib/python3.7/dist-packages/seaborn/distributions.py:2619: FutureWarning: `distplot` is a deprecated function and will be removed in a future version. Please adapt your code to use either `displot` (a figure-level function with similar flexibility) or `kdeplot` (an axes-level function for kernel density plots).\n",
            "  warnings.warn(msg, FutureWarning)\n"
          ]
        },
        {
          "output_type": "execute_result",
          "data": {
            "text/plain": [
              "<matplotlib.axes._subplots.AxesSubplot at 0x7fb35214c950>"
            ]
          },
          "metadata": {},
          "execution_count": 135
        },
        {
          "output_type": "display_data",
          "data": {
            "text/plain": [
              "<Figure size 432x288 with 1 Axes>"
            ],
            "image/png": "[encoded data removed]"
          },
          "metadata": {
            "needs_background": "light"
          }
        }
      ]
    },
    {
      "cell_type": "markdown",
      "source": [
        "#Câu 13. Viết hàm trả về kết quả dự đoán từ một hoặc nhiều feature thuộc 'curb-weight', 'engine-size', 'length', 'width', 'horsepower', 'city-mpg', 'highway-mpg', 'wheel- base', 'bore'."
      ],
      "metadata": {
        "id": "NqBtIWxIJbPt"
      }
    },
    {
      "cell_type": "code",
      "source": [
        "def Function(*args):\n",
        "  Input = [('scale', StandardScaler()),\n",
        "         ('polynomial',PolynomialFeatures(include_bias = False,degree = 3)),\n",
        "         ('model',LinearRegression())]\n",
        "  pipe = Pipeline(Input)\n",
        "  d = []\n",
        "  for value in args:\n",
        "        d.append(value)\n",
        "  z = df[d]\n",
        "  pipe.fit(z,df['price'])\n",
        "  Y_pred = pipe.predict(z)\n",
        "  return Y_pred"
      ],
      "metadata": {
        "id": "dBx_1_oUJipL"
      },
      "execution_count": 136,
      "outputs": []
    },
    {
      "cell_type": "markdown",
      "source": [
        "Nhiều biến"
      ],
      "metadata": {
        "id": "LDdUafT1LGN9"
      }
    },
    {
      "cell_type": "code",
      "source": [
        "y_pred2 = Function('curb-weight','engine-size', 'length', 'width', 'horsepower', 'city-mpg', 'highway-mpg', 'wheel-base', 'bore')"
      ],
      "metadata": {
        "id": "Hh44vLFBKKMY"
      },
      "execution_count": 137,
      "outputs": []
    },
    {
      "cell_type": "code",
      "source": [
        "mse = mean_squared_error(y,y_pred2,squared=False)"
      ],
      "metadata": {
        "id": "qmo0uV_0Kf4B"
      },
      "execution_count": 138,
      "outputs": []
    },
    {
      "cell_type": "code",
      "source": [
        "np.sqrt(mse)"
      ],
      "metadata": {
        "colab": {
          "base_uri": "https://localhost:8080/"
        },
        "id": "A7WIdsaPKhk7",
        "outputId": "ecedc2d9-eb37-4081-8fdc-bdaab47fc2c6"
      },
      "execution_count": 139,
      "outputs": [
        {
          "output_type": "execute_result",
          "data": {
            "text/plain": [
              "17.10615557912176"
            ]
          },
          "metadata": {},
          "execution_count": 139
        }
      ]
    },
    {
      "cell_type": "code",
      "source": [
        "ax1 = sns.distplot(df['price'],hist = False, label = 'Actual Value')\n",
        "sns.distplot(y_pred2,hist = False,  label = 'Fitted Values',ax = ax1)"
      ],
      "metadata": {
        "colab": {
          "base_uri": "https://localhost:8080/",
          "height": 397
        },
        "id": "Agc-7gavKiUu",
        "outputId": "a2b52ce9-80a5-4f30-dbab-161fea740a5b"
      },
      "execution_count": 140,
      "outputs": [
        {
          "output_type": "stream",
          "name": "stderr",
          "text": [
            "/usr/local/lib/python3.7/dist-packages/seaborn/distributions.py:2619: FutureWarning: `distplot` is a deprecated function and will be removed in a future version. Please adapt your code to use either `displot` (a figure-level function with similar flexibility) or `kdeplot` (an axes-level function for kernel density plots).\n",
            "  warnings.warn(msg, FutureWarning)\n",
            "/usr/local/lib/python3.7/dist-packages/seaborn/distributions.py:2619: FutureWarning: `distplot` is a deprecated function and will be removed in a future version. Please adapt your code to use either `displot` (a figure-level function with similar flexibility) or `kdeplot` (an axes-level function for kernel density plots).\n",
            "  warnings.warn(msg, FutureWarning)\n"
          ]
        },
        {
          "output_type": "execute_result",
          "data": {
            "text/plain": [
              "<matplotlib.axes._subplots.AxesSubplot at 0x7fb34ea86fd0>"
            ]
          },
          "metadata": {},
          "execution_count": 140
        },
        {
          "output_type": "display_data",
          "data": {
            "text/plain": [
              "<Figure size 432x288 with 1 Axes>"
            ],
            "image/png": "[encoded data removed]"
          },
          "metadata": {
            "needs_background": "light"
          }
        }
      ]
    },
    {
      "cell_type": "markdown",
      "source": [
        "Một biến "
      ],
      "metadata": {
        "id": "Q87zGCmDKw9Z"
      }
    },
    {
      "cell_type": "code",
      "source": [
        "y_pred3 = Function('engine-size')"
      ],
      "metadata": {
        "id": "eycTSPYxKma4"
      },
      "execution_count": 141,
      "outputs": []
    },
    {
      "cell_type": "code",
      "source": [
        "mse = mean_squared_error(y,y_pred3,squared=False)"
      ],
      "metadata": {
        "id": "YXk96FQrK6oc"
      },
      "execution_count": 142,
      "outputs": []
    },
    {
      "cell_type": "code",
      "source": [
        "np.sqrt(mse)"
      ],
      "metadata": {
        "colab": {
          "base_uri": "https://localhost:8080/"
        },
        "id": "exxSRgZ4K9Pf",
        "outputId": "be29cc2f-6163-4286-aa51-b73e797084f6"
      },
      "execution_count": 143,
      "outputs": [
        {
          "output_type": "execute_result",
          "data": {
            "text/plain": [
              "60.26124721909316"
            ]
          },
          "metadata": {},
          "execution_count": 143
        }
      ]
    },
    {
      "cell_type": "code",
      "source": [
        "ax1 = sns.distplot(df['price'],hist = False, label = 'Actual Value')\n",
        "sns.distplot(y_pred3,hist = False,  label = 'Fitted Values',ax = ax1)"
      ],
      "metadata": {
        "colab": {
          "base_uri": "https://localhost:8080/",
          "height": 397
        },
        "id": "r38FcJnWK_sm",
        "outputId": "59cc3e99-2c09-476a-bf6e-49b9fec3345b"
      },
      "execution_count": 144,
      "outputs": [
        {
          "output_type": "stream",
          "name": "stderr",
          "text": [
            "/usr/local/lib/python3.7/dist-packages/seaborn/distributions.py:2619: FutureWarning: `distplot` is a deprecated function and will be removed in a future version. Please adapt your code to use either `displot` (a figure-level function with similar flexibility) or `kdeplot` (an axes-level function for kernel density plots).\n",
            "  warnings.warn(msg, FutureWarning)\n",
            "/usr/local/lib/python3.7/dist-packages/seaborn/distributions.py:2619: FutureWarning: `distplot` is a deprecated function and will be removed in a future version. Please adapt your code to use either `displot` (a figure-level function with similar flexibility) or `kdeplot` (an axes-level function for kernel density plots).\n",
            "  warnings.warn(msg, FutureWarning)\n"
          ]
        },
        {
          "output_type": "execute_result",
          "data": {
            "text/plain": [
              "<matplotlib.axes._subplots.AxesSubplot at 0x7fb34e5a1110>"
            ]
          },
          "metadata": {},
          "execution_count": 144
        },
        {
          "output_type": "display_data",
          "data": {
            "text/plain": [
              "<Figure size 432x288 with 1 Axes>"
            ],
            "image/png": "[encoded data removed]"
          },
          "metadata": {
            "needs_background": "light"
          }
        }
      ]
    },
    {
      "cell_type": "code",
      "source": [],
      "metadata": {
        "id": "0dM9_4N2LCQg"
      },
      "execution_count": 144,
      "outputs": []
    }
  ]
}